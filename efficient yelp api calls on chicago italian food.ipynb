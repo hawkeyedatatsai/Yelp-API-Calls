{
 "cells": [
  {
   "cell_type": "markdown",
   "id": "b0441e45",
   "metadata": {},
   "source": [
    "# Efficient API Extraction Method to Obtain Data from Yelp"
   ]
  },
  {
   "cell_type": "markdown",
   "id": "44db241e",
   "metadata": {},
   "source": [
    "## Objective\n",
    "\n",
    "- Using the Yelp API to search my favorite city for a cuisine type of my choice.\n",
    "\n",
    "- Extract all of the results from your search and compile them into one dataframe \n",
    "\n",
    "- Loop through a list of queries and save the results throughout the loop\n",
    "\n",
    "- Use the tqdm lib to make a progress bar to track the time remaining in a loop"
   ]
  },
  {
   "cell_type": "code",
   "execution_count": 3,
   "id": "acf8560d",
   "metadata": {},
   "outputs": [],
   "source": [
    "# imports\n",
    "import pandas as pd\n",
    "import numpy as np\n",
    "import matplotlib.pyplot as plt\n",
    "import seaborn as sns\n",
    "\n",
    "#additional imports\n",
    "import os, json, math, time\n",
    "from yelpapi import YelpAPI\n",
    "from tqdm.notebook import tqdm_notebook\n",
    "\n"
   ]
  },
  {
   "cell_type": "code",
   "execution_count": 30,
   "id": "3b8083b9",
   "metadata": {},
   "outputs": [
    {
     "data": {
      "text/plain": [
       "False"
      ]
     },
     "execution_count": 30,
     "metadata": {},
     "output_type": "execute_result"
    }
   ],
   "source": [
    "## delete file and confirm it no longer exits.\n",
    "os.remove(JSON_FILE)\n",
    "os.path.isfile(JSON_FILE)"
   ]
  },
  {
   "cell_type": "code",
   "execution_count": 37,
   "id": "bc832e59",
   "metadata": {},
   "outputs": [],
   "source": [
    "def create_json_file(JSON_FILE,  delete_if_exists=False):\n",
    "    \n",
    "    ## Check if JSON_FILE exists\n",
    "    file_exists = os.path.isfile(JSON_FILE)\n",
    "    \n",
    "    ## If it DOES exist:\n",
    "    if file_exists == True:\n",
    "        \n",
    "        ## Check if user wants to delete if exists\n",
    "        if delete_if_exists==True:\n",
    "            \n",
    "            print(f\"[!] {JSON_FILE} already exists. Deleting previous file...\")\n",
    "            ## delete file and confirm it no longer exits.\n",
    "            os.remove(JSON_FILE)\n",
    "            ## Recursive call to function after old file deleted\n",
    "            create_json_file(JSON_FILE,delete_if_exists=False)\n",
    "        else:\n",
    "            print(f\"[i] {JSON_FILE} already exists.\")            \n",
    "            \n",
    "            \n",
    "    ## If it does NOT exist:\n",
    "    else:\n",
    "        ## INFORM USER AND SAVE EMPTY LIST\n",
    "        print(f\"[i] {JSON_FILE} not found. Saving empty list to new file.\")\n",
    "        \n",
    "        ## CREATE ANY NEEDED FOLDERS\n",
    "        # Get the Folder Name only\n",
    "        folder = os.path.dirname(JSON_FILE)\n",
    "        \n",
    "        ## If JSON_FILE included a folder:\n",
    "        if len(folder)>0:\n",
    "            # create the folder\n",
    "            os.makedirs(folder,exist_ok=True)\n",
    "        ## Save empty list to start the json file\n",
    "        with open(JSON_FILE,'w') as f:\n",
    "            json.dump([],f) \n"
   ]
  },
  {
   "cell_type": "markdown",
   "id": "3532e0db",
   "metadata": {},
   "source": [
    "## Load credentials and create yelp api object "
   ]
  },
  {
   "cell_type": "code",
   "execution_count": 4,
   "id": "2bcfd908",
   "metadata": {},
   "outputs": [
    {
     "data": {
      "text/plain": [
       "dict_keys(['client-id', 'api-key'])"
      ]
     },
     "execution_count": 4,
     "metadata": {},
     "output_type": "execute_result"
    }
   ],
   "source": [
    "# Load API credentials\n",
    "with open('/Users/heng-tsertsai/.secret/yelp_api.json') as f:\n",
    "    login = json.load(f)\n",
    "login.keys()"
   ]
  },
  {
   "cell_type": "code",
   "execution_count": 5,
   "id": "fb292821",
   "metadata": {},
   "outputs": [
    {
     "data": {
      "text/plain": [
       "<yelpapi.yelpapi.YelpAPI at 0x119e26c40>"
      ]
     },
     "execution_count": 5,
     "metadata": {},
     "output_type": "execute_result"
    }
   ],
   "source": [
    "# instantiate yelpapi variable\n",
    "yelp_api = YelpAPI(login['api-key'], timeout_s=5.0)\n",
    "yelp_api"
   ]
  },
  {
   "cell_type": "markdown",
   "id": "1d706ebc",
   "metadata": {},
   "source": [
    "## Define search and file path"
   ]
  },
  {
   "cell_type": "code",
   "execution_count": 11,
   "id": "09d7d91b",
   "metadata": {},
   "outputs": [],
   "source": [
    "# use our yelp_api variable's search_query method to perform our API call\n",
    "location='Chicago, IL'\n",
    "term='Italian'"
   ]
  },
  {
   "cell_type": "code",
   "execution_count": 12,
   "id": "7a13088b",
   "metadata": {
    "scrolled": true
   },
   "outputs": [
    {
     "data": {
      "text/plain": [
       "'Data/results_in_progress_Chicago_Italian.json'"
      ]
     },
     "execution_count": 12,
     "metadata": {},
     "output_type": "execute_result"
    }
   ],
   "source": [
    "#specify folder to save data\n",
    "FOLDER = 'Data/'\n",
    "os.makedirs(FOLDER, exist_ok = True)\n",
    "\n",
    "#specify JSON file name in a programatic way\n",
    "JSON_FILE = FOLDER+f\"results_in_progress_{location.split(',')[0]}_{term}.json\"\n",
    "JSON_FILE"
   ]
  },
  {
   "cell_type": "markdown",
   "id": "1f6e2f16",
   "metadata": {},
   "source": [
    "## Check if JSON file exists"
   ]
  },
  {
   "cell_type": "code",
   "execution_count": 13,
   "id": "20efcac6",
   "metadata": {},
   "outputs": [
    {
     "name": "stdout",
     "output_type": "stream",
     "text": [
      "[i] Data/results_in_progress_Chicago_Italian.json not found. Saving empty list to file.\n"
     ]
    }
   ],
   "source": [
    "## Check if JSON_FILE exists\n",
    "file_exists = os.path.isfile(JSON_FILE)\n",
    "## If it does not exist: \n",
    "if file_exists == False:\n",
    "    \n",
    "    ## CREATE ANY NEEDED FOLDERS\n",
    "    # Get the Folder Name only\n",
    "    folder = os.path.dirname(JSON_FILE)\n",
    "    ## If JSON_FILE included a folder:\n",
    "    if len(folder)>0:\n",
    "        # create the folder\n",
    "        os.makedirs(folder,exist_ok=True)\n",
    "        \n",
    "        \n",
    "    ## INFORM USER AND SAVE EMPTY LIST\n",
    "    print(f'[i] {JSON_FILE} not found. Saving empty list to file.')\n",
    "    \n",
    "    \n",
    "    # save an empty list\n",
    "    with open(JSON_FILE,'w') as f:\n",
    "        json.dump([],f)  \n",
    "# If it exists, inform user\n",
    "else:\n",
    "    print(f\"[i] {JSON_FILE} already exists.\")"
   ]
  },
  {
   "cell_type": "markdown",
   "id": "b96a5568",
   "metadata": {},
   "source": [
    "## Determine how many results are already in the file\n"
   ]
  },
  {
   "cell_type": "code",
   "execution_count": 41,
   "id": "07eafb59",
   "metadata": {},
   "outputs": [
    {
     "name": "stdout",
     "output_type": "stream",
     "text": [
      "[!] Data/results_in_progress_Chicago_Italian.json already exists. Deleting previous file...\n",
      "[i] Data/results_in_progress_Chicago_Italian.json not found. Saving empty list to new file.\n",
      "- 0 previous results found.\n"
     ]
    }
   ],
   "source": [
    "## Create a new empty json file (exist the previous if it exists)\n",
    "create_json_file(JSON_FILE, delete_if_exists=True)\n",
    "## Load previous results and use len of results for offset\n",
    "with open(JSON_FILE,'r') as f:\n",
    "    previous_results = json.load(f)\n",
    "    \n",
    "## set offset based on previous results\n",
    "n_results = len(previous_results)\n",
    "print(f'- {n_results} previous results found.')"
   ]
  },
  {
   "cell_type": "markdown",
   "id": "6e030bfe",
   "metadata": {},
   "source": [
    "## Figure out how many pages of results we will need\n",
    "\n",
    "- API will return results by pages\n",
    "- Let's perform query to get first page of results and. the total # of results\n",
    "- Then we will calculate how many pages needed to retrieve all results"
   ]
  },
  {
   "cell_type": "code",
   "execution_count": null,
   "id": "7f105b42",
   "metadata": {},
   "outputs": [],
   "source": [
    "# use our yelp_api variable's search_query method to perform our API call\n",
    "results = yelp_api.search_query(location=location,\n",
    "                                term=term,\n",
    "                               offset=n_results)\n",
    "## How many results total?\n",
    "total_results = results['total']\n",
    "## How many did we get the details for?\n",
    "results_per_page = len(results['businesses'])\n",
    "# Use math.ceil to round up for the total number of pages of results.\n",
    "n_pages = math.ceil((results['total']-n_results)/ results_per_page)\n",
    "n_pages"
   ]
  },
  {
   "cell_type": "markdown",
   "id": "26681108",
   "metadata": {},
   "source": [
    "## For Loop to call each page\n",
    "\n",
    "I encounter error msg which suggests \"YelpAPIError: VALIDATION_ERROR: Too many results requested, limit+offset must be <= 1000.\" \n",
    "This is the limitation of using the free tier of Yelp's API. It is telling us that we asked for too many results and that we can only get <= 1,000 results.\n",
    "\n",
    "So I use a programmatic way to create a new function to not only delete the old json file but also add a new json file.\n",
    "\n",
    "After that, an updated progress bar was set up.\n",
    "\n"
   ]
  },
  {
   "cell_type": "code",
   "execution_count": 40,
   "id": "18163621",
   "metadata": {},
   "outputs": [
    {
     "data": {
      "application/vnd.jupyter.widget-view+json": {
       "model_id": "f8a4e82e22414dd08fe10a629dce15ac",
       "version_major": 2,
       "version_minor": 0
      },
      "text/plain": [
       "  0%|          | 0/230 [00:00<?, ?it/s]"
      ]
     },
     "metadata": {},
     "output_type": "display_data"
    },
    {
     "name": "stdout",
     "output_type": "stream",
     "text": [
      "Exceeded 1000 api calls. Stopping loop.\n"
     ]
    }
   ],
   "source": [
    "for i in tqdm_notebook( range(1,n_pages+1)):\n",
    "    \n",
    "    ## Read in results in progress file and check the length\n",
    "    with open(JSON_FILE, 'r') as f:\n",
    "        previous_results = json.load(f)\n",
    "    ## save number of results for to use as offset\n",
    "    n_results = len(previous_results)\n",
    "    \n",
    "    if (n_results + results_per_page) > 1000:\n",
    "        print('Exceeded 1000 api calls. Stopping loop.')\n",
    "        break\n",
    "    \n",
    "    ## use n_results as the OFFSET \n",
    "    results = yelp_api.search_query(location=location,\n",
    "                                    term=term, \n",
    "                                    offset=n_results)\n",
    "    \n",
    "    \n",
    "    \n",
    "    ## append new results and save to file\n",
    "    previous_results.extend(results['businesses'])\n",
    "    \n",
    "    # display(previous_results)\n",
    "    with open(JSON_FILE,'w') as f:\n",
    "        json.dump(previous_results,f)\n",
    "    time.sleep(.2)"
   ]
  },
  {
   "cell_type": "code",
   "execution_count": 14,
   "id": "e4d4f2c5",
   "metadata": {},
   "outputs": [
    {
     "name": "stdout",
     "output_type": "stream",
     "text": [
      "- 0 previous results found.\n"
     ]
    }
   ],
   "source": [
    "## Load previous results and use len of results for offset\n",
    "with open(JSON_FILE,'r') as f:\n",
    "    previous_results = json.load(f)\n",
    "    \n",
    "## set offset based on previous results\n",
    "n_results = len(previous_results)\n",
    "print(f'- {n_results} previous results found.')"
   ]
  },
  {
   "cell_type": "code",
   "execution_count": 16,
   "id": "a90c685e",
   "metadata": {},
   "outputs": [
    {
     "data": {
      "text/plain": [
       "dict_keys(['businesses', 'total', 'region'])"
      ]
     },
     "execution_count": 16,
     "metadata": {},
     "output_type": "execute_result"
    }
   ],
   "source": [
    "# use our yelp_api variable's search_query method to perform our API call\n",
    "results = yelp_api.search_query(location=location,\n",
    "                                term=term,\n",
    "                               offset=n_results)\n",
    "results.keys()"
   ]
  },
  {
   "cell_type": "code",
   "execution_count": 18,
   "id": "06e9328f",
   "metadata": {
    "scrolled": true
   },
   "outputs": [
    {
     "data": {
      "text/plain": [
       "4600"
      ]
     },
     "execution_count": 18,
     "metadata": {},
     "output_type": "execute_result"
    }
   ],
   "source": [
    "# how many results in total?\n",
    "total_results = results['total']\n",
    "total_results"
   ]
  },
  {
   "cell_type": "code",
   "execution_count": 21,
   "id": "92ef60c8",
   "metadata": {},
   "outputs": [
    {
     "data": {
      "text/plain": [
       "20"
      ]
     },
     "execution_count": 21,
     "metadata": {},
     "output_type": "execute_result"
    }
   ],
   "source": [
    "# how many results we got from api call?\n",
    "results_per_page = len(results['businesses'])\n",
    "results_per_page"
   ]
  },
  {
   "cell_type": "code",
   "execution_count": 23,
   "id": "72373980",
   "metadata": {},
   "outputs": [
    {
     "data": {
      "text/plain": [
       "230"
      ]
     },
     "execution_count": 23,
     "metadata": {},
     "output_type": "execute_result"
    }
   ],
   "source": [
    "# how many # of calls needed for all results\n",
    "n_pages = math.ceil((results['total'] - n_results)/ results_per_page)\n",
    "n_pages"
   ]
  },
  {
   "cell_type": "code",
   "execution_count": 25,
   "id": "5cfbb337",
   "metadata": {},
   "outputs": [
    {
     "data": {
      "application/vnd.jupyter.widget-view+json": {
       "model_id": "7c80200541444e47ab69d490367d1303",
       "version_major": 2,
       "version_minor": 0
      },
      "text/plain": [
       "  0%|          | 0/230 [00:00<?, ?it/s]"
      ]
     },
     "metadata": {},
     "output_type": "display_data"
    },
    {
     "name": "stdout",
     "output_type": "stream",
     "text": [
      " [!] ERROR VALIDATION_ERROR: Too many results requested, limit+offset must be <= 1000.\n",
      " [!] ERROR VALIDATION_ERROR: Too many results requested, limit+offset must be <= 1000.\n",
      " [!] ERROR VALIDATION_ERROR: Too many results requested, limit+offset must be <= 1000.\n",
      " [!] ERROR VALIDATION_ERROR: Too many results requested, limit+offset must be <= 1000.\n",
      " [!] ERROR VALIDATION_ERROR: Too many results requested, limit+offset must be <= 1000.\n",
      " [!] ERROR VALIDATION_ERROR: Too many results requested, limit+offset must be <= 1000.\n",
      " [!] ERROR VALIDATION_ERROR: Too many results requested, limit+offset must be <= 1000.\n",
      " [!] ERROR VALIDATION_ERROR: Too many results requested, limit+offset must be <= 1000.\n",
      " [!] ERROR VALIDATION_ERROR: Too many results requested, limit+offset must be <= 1000.\n",
      " [!] ERROR VALIDATION_ERROR: Too many results requested, limit+offset must be <= 1000.\n",
      " [!] ERROR VALIDATION_ERROR: Too many results requested, limit+offset must be <= 1000.\n",
      " [!] ERROR VALIDATION_ERROR: Too many results requested, limit+offset must be <= 1000.\n",
      " [!] ERROR VALIDATION_ERROR: Too many results requested, limit+offset must be <= 1000.\n",
      " [!] ERROR VALIDATION_ERROR: Too many results requested, limit+offset must be <= 1000.\n",
      " [!] ERROR VALIDATION_ERROR: Too many results requested, limit+offset must be <= 1000.\n",
      " [!] ERROR VALIDATION_ERROR: Too many results requested, limit+offset must be <= 1000.\n",
      " [!] ERROR VALIDATION_ERROR: Too many results requested, limit+offset must be <= 1000.\n",
      " [!] ERROR VALIDATION_ERROR: Too many results requested, limit+offset must be <= 1000.\n",
      " [!] ERROR VALIDATION_ERROR: Too many results requested, limit+offset must be <= 1000.\n",
      " [!] ERROR VALIDATION_ERROR: Too many results requested, limit+offset must be <= 1000.\n",
      " [!] ERROR VALIDATION_ERROR: Too many results requested, limit+offset must be <= 1000.\n",
      " [!] ERROR VALIDATION_ERROR: Too many results requested, limit+offset must be <= 1000.\n",
      " [!] ERROR VALIDATION_ERROR: Too many results requested, limit+offset must be <= 1000.\n",
      " [!] ERROR VALIDATION_ERROR: Too many results requested, limit+offset must be <= 1000.\n",
      " [!] ERROR VALIDATION_ERROR: Too many results requested, limit+offset must be <= 1000.\n",
      " [!] ERROR VALIDATION_ERROR: Too many results requested, limit+offset must be <= 1000.\n",
      " [!] ERROR VALIDATION_ERROR: Too many results requested, limit+offset must be <= 1000.\n",
      " [!] ERROR VALIDATION_ERROR: Too many results requested, limit+offset must be <= 1000.\n",
      " [!] ERROR VALIDATION_ERROR: Too many results requested, limit+offset must be <= 1000.\n",
      " [!] ERROR VALIDATION_ERROR: Too many results requested, limit+offset must be <= 1000.\n",
      " [!] ERROR VALIDATION_ERROR: Too many results requested, limit+offset must be <= 1000.\n",
      " [!] ERROR VALIDATION_ERROR: Too many results requested, limit+offset must be <= 1000.\n",
      " [!] ERROR VALIDATION_ERROR: Too many results requested, limit+offset must be <= 1000.\n",
      " [!] ERROR VALIDATION_ERROR: Too many results requested, limit+offset must be <= 1000.\n",
      " [!] ERROR VALIDATION_ERROR: Too many results requested, limit+offset must be <= 1000.\n",
      " [!] ERROR VALIDATION_ERROR: Too many results requested, limit+offset must be <= 1000.\n",
      " [!] ERROR VALIDATION_ERROR: Too many results requested, limit+offset must be <= 1000.\n",
      " [!] ERROR VALIDATION_ERROR: Too many results requested, limit+offset must be <= 1000.\n",
      " [!] ERROR VALIDATION_ERROR: Too many results requested, limit+offset must be <= 1000.\n",
      " [!] ERROR VALIDATION_ERROR: Too many results requested, limit+offset must be <= 1000.\n",
      " [!] ERROR VALIDATION_ERROR: Too many results requested, limit+offset must be <= 1000.\n",
      " [!] ERROR VALIDATION_ERROR: Too many results requested, limit+offset must be <= 1000.\n",
      " [!] ERROR VALIDATION_ERROR: Too many results requested, limit+offset must be <= 1000.\n",
      " [!] ERROR VALIDATION_ERROR: Too many results requested, limit+offset must be <= 1000.\n",
      " [!] ERROR VALIDATION_ERROR: Too many results requested, limit+offset must be <= 1000.\n",
      " [!] ERROR VALIDATION_ERROR: Too many results requested, limit+offset must be <= 1000.\n",
      " [!] ERROR VALIDATION_ERROR: Too many results requested, limit+offset must be <= 1000.\n",
      " [!] ERROR VALIDATION_ERROR: Too many results requested, limit+offset must be <= 1000.\n",
      " [!] ERROR VALIDATION_ERROR: Too many results requested, limit+offset must be <= 1000.\n",
      " [!] ERROR VALIDATION_ERROR: Too many results requested, limit+offset must be <= 1000.\n",
      " [!] ERROR VALIDATION_ERROR: Too many results requested, limit+offset must be <= 1000.\n",
      " [!] ERROR VALIDATION_ERROR: Too many results requested, limit+offset must be <= 1000.\n",
      " [!] ERROR VALIDATION_ERROR: Too many results requested, limit+offset must be <= 1000.\n",
      " [!] ERROR VALIDATION_ERROR: Too many results requested, limit+offset must be <= 1000.\n",
      " [!] ERROR VALIDATION_ERROR: Too many results requested, limit+offset must be <= 1000.\n",
      " [!] ERROR VALIDATION_ERROR: Too many results requested, limit+offset must be <= 1000.\n",
      " [!] ERROR VALIDATION_ERROR: Too many results requested, limit+offset must be <= 1000.\n",
      " [!] ERROR VALIDATION_ERROR: Too many results requested, limit+offset must be <= 1000.\n",
      " [!] ERROR VALIDATION_ERROR: Too many results requested, limit+offset must be <= 1000.\n",
      " [!] ERROR VALIDATION_ERROR: Too many results requested, limit+offset must be <= 1000.\n",
      " [!] ERROR VALIDATION_ERROR: Too many results requested, limit+offset must be <= 1000.\n",
      " [!] ERROR VALIDATION_ERROR: Too many results requested, limit+offset must be <= 1000.\n",
      " [!] ERROR VALIDATION_ERROR: Too many results requested, limit+offset must be <= 1000.\n",
      " [!] ERROR VALIDATION_ERROR: Too many results requested, limit+offset must be <= 1000.\n",
      " [!] ERROR VALIDATION_ERROR: Too many results requested, limit+offset must be <= 1000.\n",
      " [!] ERROR VALIDATION_ERROR: Too many results requested, limit+offset must be <= 1000.\n",
      " [!] ERROR VALIDATION_ERROR: Too many results requested, limit+offset must be <= 1000.\n",
      " [!] ERROR VALIDATION_ERROR: Too many results requested, limit+offset must be <= 1000.\n",
      " [!] ERROR VALIDATION_ERROR: Too many results requested, limit+offset must be <= 1000.\n",
      " [!] ERROR VALIDATION_ERROR: Too many results requested, limit+offset must be <= 1000.\n",
      " [!] ERROR VALIDATION_ERROR: Too many results requested, limit+offset must be <= 1000.\n",
      " [!] ERROR VALIDATION_ERROR: Too many results requested, limit+offset must be <= 1000.\n",
      " [!] ERROR VALIDATION_ERROR: Too many results requested, limit+offset must be <= 1000.\n",
      " [!] ERROR VALIDATION_ERROR: Too many results requested, limit+offset must be <= 1000.\n",
      " [!] ERROR VALIDATION_ERROR: Too many results requested, limit+offset must be <= 1000.\n",
      " [!] ERROR VALIDATION_ERROR: Too many results requested, limit+offset must be <= 1000.\n",
      " [!] ERROR VALIDATION_ERROR: Too many results requested, limit+offset must be <= 1000.\n",
      " [!] ERROR VALIDATION_ERROR: Too many results requested, limit+offset must be <= 1000.\n",
      " [!] ERROR VALIDATION_ERROR: Too many results requested, limit+offset must be <= 1000.\n",
      " [!] ERROR VALIDATION_ERROR: Too many results requested, limit+offset must be <= 1000.\n",
      " [!] ERROR VALIDATION_ERROR: Too many results requested, limit+offset must be <= 1000.\n",
      " [!] ERROR VALIDATION_ERROR: Too many results requested, limit+offset must be <= 1000.\n",
      " [!] ERROR VALIDATION_ERROR: Too many results requested, limit+offset must be <= 1000.\n",
      " [!] ERROR VALIDATION_ERROR: Too many results requested, limit+offset must be <= 1000.\n",
      " [!] ERROR VALIDATION_ERROR: Too many results requested, limit+offset must be <= 1000.\n",
      " [!] ERROR VALIDATION_ERROR: Too many results requested, limit+offset must be <= 1000.\n",
      " [!] ERROR VALIDATION_ERROR: Too many results requested, limit+offset must be <= 1000.\n",
      " [!] ERROR VALIDATION_ERROR: Too many results requested, limit+offset must be <= 1000.\n",
      " [!] ERROR VALIDATION_ERROR: Too many results requested, limit+offset must be <= 1000.\n",
      " [!] ERROR VALIDATION_ERROR: Too many results requested, limit+offset must be <= 1000.\n",
      " [!] ERROR VALIDATION_ERROR: Too many results requested, limit+offset must be <= 1000.\n",
      " [!] ERROR VALIDATION_ERROR: Too many results requested, limit+offset must be <= 1000.\n",
      " [!] ERROR VALIDATION_ERROR: Too many results requested, limit+offset must be <= 1000.\n",
      " [!] ERROR VALIDATION_ERROR: Too many results requested, limit+offset must be <= 1000.\n",
      " [!] ERROR VALIDATION_ERROR: Too many results requested, limit+offset must be <= 1000.\n"
     ]
    },
    {
     "name": "stdout",
     "output_type": "stream",
     "text": [
      " [!] ERROR VALIDATION_ERROR: Too many results requested, limit+offset must be <= 1000.\n",
      " [!] ERROR VALIDATION_ERROR: Too many results requested, limit+offset must be <= 1000.\n",
      " [!] ERROR VALIDATION_ERROR: Too many results requested, limit+offset must be <= 1000.\n",
      " [!] ERROR VALIDATION_ERROR: Too many results requested, limit+offset must be <= 1000.\n",
      " [!] ERROR VALIDATION_ERROR: Too many results requested, limit+offset must be <= 1000.\n",
      " [!] ERROR VALIDATION_ERROR: Too many results requested, limit+offset must be <= 1000.\n",
      " [!] ERROR VALIDATION_ERROR: Too many results requested, limit+offset must be <= 1000.\n",
      " [!] ERROR VALIDATION_ERROR: Too many results requested, limit+offset must be <= 1000.\n",
      " [!] ERROR VALIDATION_ERROR: Too many results requested, limit+offset must be <= 1000.\n",
      " [!] ERROR VALIDATION_ERROR: Too many results requested, limit+offset must be <= 1000.\n",
      " [!] ERROR VALIDATION_ERROR: Too many results requested, limit+offset must be <= 1000.\n",
      " [!] ERROR VALIDATION_ERROR: Too many results requested, limit+offset must be <= 1000.\n",
      " [!] ERROR VALIDATION_ERROR: Too many results requested, limit+offset must be <= 1000.\n",
      " [!] ERROR VALIDATION_ERROR: Too many results requested, limit+offset must be <= 1000.\n",
      " [!] ERROR VALIDATION_ERROR: Too many results requested, limit+offset must be <= 1000.\n",
      " [!] ERROR VALIDATION_ERROR: Too many results requested, limit+offset must be <= 1000.\n",
      " [!] ERROR VALIDATION_ERROR: Too many results requested, limit+offset must be <= 1000.\n",
      " [!] ERROR VALIDATION_ERROR: Too many results requested, limit+offset must be <= 1000.\n",
      " [!] ERROR VALIDATION_ERROR: Too many results requested, limit+offset must be <= 1000.\n",
      " [!] ERROR VALIDATION_ERROR: Too many results requested, limit+offset must be <= 1000.\n",
      " [!] ERROR VALIDATION_ERROR: Too many results requested, limit+offset must be <= 1000.\n",
      " [!] ERROR VALIDATION_ERROR: Too many results requested, limit+offset must be <= 1000.\n",
      " [!] ERROR VALIDATION_ERROR: Too many results requested, limit+offset must be <= 1000.\n",
      " [!] ERROR VALIDATION_ERROR: Too many results requested, limit+offset must be <= 1000.\n",
      " [!] ERROR VALIDATION_ERROR: Too many results requested, limit+offset must be <= 1000.\n",
      " [!] ERROR VALIDATION_ERROR: Too many results requested, limit+offset must be <= 1000.\n",
      " [!] ERROR VALIDATION_ERROR: Too many results requested, limit+offset must be <= 1000.\n",
      " [!] ERROR VALIDATION_ERROR: Too many results requested, limit+offset must be <= 1000.\n",
      " [!] ERROR VALIDATION_ERROR: Too many results requested, limit+offset must be <= 1000.\n",
      " [!] ERROR VALIDATION_ERROR: Too many results requested, limit+offset must be <= 1000.\n",
      " [!] ERROR VALIDATION_ERROR: Too many results requested, limit+offset must be <= 1000.\n",
      " [!] ERROR VALIDATION_ERROR: Too many results requested, limit+offset must be <= 1000.\n",
      " [!] ERROR VALIDATION_ERROR: Too many results requested, limit+offset must be <= 1000.\n",
      " [!] ERROR VALIDATION_ERROR: Too many results requested, limit+offset must be <= 1000.\n",
      " [!] ERROR VALIDATION_ERROR: Too many results requested, limit+offset must be <= 1000.\n",
      " [!] ERROR VALIDATION_ERROR: Too many results requested, limit+offset must be <= 1000.\n",
      " [!] ERROR VALIDATION_ERROR: Too many results requested, limit+offset must be <= 1000.\n",
      " [!] ERROR VALIDATION_ERROR: Too many results requested, limit+offset must be <= 1000.\n",
      " [!] ERROR VALIDATION_ERROR: Too many results requested, limit+offset must be <= 1000.\n",
      " [!] ERROR VALIDATION_ERROR: Too many results requested, limit+offset must be <= 1000.\n",
      " [!] ERROR VALIDATION_ERROR: Too many results requested, limit+offset must be <= 1000.\n",
      " [!] ERROR VALIDATION_ERROR: Too many results requested, limit+offset must be <= 1000.\n",
      " [!] ERROR VALIDATION_ERROR: Too many results requested, limit+offset must be <= 1000.\n",
      " [!] ERROR VALIDATION_ERROR: Too many results requested, limit+offset must be <= 1000.\n",
      " [!] ERROR VALIDATION_ERROR: Too many results requested, limit+offset must be <= 1000.\n",
      " [!] ERROR VALIDATION_ERROR: Too many results requested, limit+offset must be <= 1000.\n",
      " [!] ERROR VALIDATION_ERROR: Too many results requested, limit+offset must be <= 1000.\n",
      " [!] ERROR VALIDATION_ERROR: Too many results requested, limit+offset must be <= 1000.\n",
      " [!] ERROR VALIDATION_ERROR: Too many results requested, limit+offset must be <= 1000.\n",
      " [!] ERROR VALIDATION_ERROR: Too many results requested, limit+offset must be <= 1000.\n",
      " [!] ERROR VALIDATION_ERROR: Too many results requested, limit+offset must be <= 1000.\n",
      " [!] ERROR VALIDATION_ERROR: Too many results requested, limit+offset must be <= 1000.\n",
      " [!] ERROR VALIDATION_ERROR: Too many results requested, limit+offset must be <= 1000.\n",
      " [!] ERROR VALIDATION_ERROR: Too many results requested, limit+offset must be <= 1000.\n",
      " [!] ERROR VALIDATION_ERROR: Too many results requested, limit+offset must be <= 1000.\n",
      " [!] ERROR VALIDATION_ERROR: Too many results requested, limit+offset must be <= 1000.\n",
      " [!] ERROR VALIDATION_ERROR: Too many results requested, limit+offset must be <= 1000.\n",
      " [!] ERROR VALIDATION_ERROR: Too many results requested, limit+offset must be <= 1000.\n",
      " [!] ERROR VALIDATION_ERROR: Too many results requested, limit+offset must be <= 1000.\n",
      " [!] ERROR VALIDATION_ERROR: Too many results requested, limit+offset must be <= 1000.\n",
      " [!] ERROR VALIDATION_ERROR: Too many results requested, limit+offset must be <= 1000.\n",
      " [!] ERROR VALIDATION_ERROR: Too many results requested, limit+offset must be <= 1000.\n",
      " [!] ERROR VALIDATION_ERROR: Too many results requested, limit+offset must be <= 1000.\n",
      " [!] ERROR VALIDATION_ERROR: Too many results requested, limit+offset must be <= 1000.\n",
      " [!] ERROR VALIDATION_ERROR: Too many results requested, limit+offset must be <= 1000.\n",
      " [!] ERROR VALIDATION_ERROR: Too many results requested, limit+offset must be <= 1000.\n",
      " [!] ERROR VALIDATION_ERROR: Too many results requested, limit+offset must be <= 1000.\n",
      " [!] ERROR VALIDATION_ERROR: Too many results requested, limit+offset must be <= 1000.\n",
      " [!] ERROR VALIDATION_ERROR: Too many results requested, limit+offset must be <= 1000.\n",
      " [!] ERROR VALIDATION_ERROR: Too many results requested, limit+offset must be <= 1000.\n",
      " [!] ERROR VALIDATION_ERROR: Too many results requested, limit+offset must be <= 1000.\n",
      " [!] ERROR VALIDATION_ERROR: Too many results requested, limit+offset must be <= 1000.\n",
      " [!] ERROR VALIDATION_ERROR: Too many results requested, limit+offset must be <= 1000.\n",
      " [!] ERROR VALIDATION_ERROR: Too many results requested, limit+offset must be <= 1000.\n",
      " [!] ERROR VALIDATION_ERROR: Too many results requested, limit+offset must be <= 1000.\n",
      " [!] ERROR VALIDATION_ERROR: Too many results requested, limit+offset must be <= 1000.\n",
      " [!] ERROR VALIDATION_ERROR: Too many results requested, limit+offset must be <= 1000.\n",
      " [!] ERROR VALIDATION_ERROR: Too many results requested, limit+offset must be <= 1000.\n",
      " [!] ERROR VALIDATION_ERROR: Too many results requested, limit+offset must be <= 1000.\n",
      " [!] ERROR VALIDATION_ERROR: Too many results requested, limit+offset must be <= 1000.\n",
      " [!] ERROR VALIDATION_ERROR: Too many results requested, limit+offset must be <= 1000.\n",
      " [!] ERROR VALIDATION_ERROR: Too many results requested, limit+offset must be <= 1000.\n",
      " [!] ERROR VALIDATION_ERROR: Too many results requested, limit+offset must be <= 1000.\n",
      " [!] ERROR VALIDATION_ERROR: Too many results requested, limit+offset must be <= 1000.\n",
      " [!] ERROR VALIDATION_ERROR: Too many results requested, limit+offset must be <= 1000.\n",
      " [!] ERROR VALIDATION_ERROR: Too many results requested, limit+offset must be <= 1000.\n"
     ]
    }
   ],
   "source": [
    "for i in tqdm_notebook(range(1,n_pages+1)):\n",
    "    ## The block of code we want to TRY to run\n",
    "    try:\n",
    "        \n",
    "        time.sleep(.2)\n",
    "        \n",
    "        ## Read in results in progress file and check the length\n",
    "        with open(JSON_FILE, 'r') as f:\n",
    "            previous_results = json.load(f)\n",
    "        \n",
    "        ## save number of results for to use as offset\n",
    "        n_results = len(previous_results)\n",
    "        \n",
    "        \n",
    "        ## use n_results as the OFFSET \n",
    "        results = yelp_api.search_query(location = location, term = term,\n",
    "                                   offset = n_results+1)\n",
    "\n",
    "        ## append new results and save to file\n",
    "        previous_results.extend(results['businesses'])\n",
    "        \n",
    "        with open(JSON_FILE, 'w') as f:\n",
    "            json.dump(previous_results, f)\n",
    "\n",
    "            \n",
    "    ## What to do if we get an error/exception.\n",
    "    except Exception as e:\n",
    "        print(' [!] ERROR', e)"
   ]
  },
  {
   "cell_type": "code",
   "execution_count": null,
   "id": "13afcd85",
   "metadata": {},
   "outputs": [],
   "source": []
  },
  {
   "cell_type": "markdown",
   "id": "21320b99",
   "metadata": {},
   "source": [
    "## Open the Final JSON File with Pandas"
   ]
  },
  {
   "cell_type": "code",
   "execution_count": 26,
   "id": "c59a395a",
   "metadata": {
    "scrolled": true
   },
   "outputs": [
    {
     "name": "stdout",
     "output_type": "stream",
     "text": [
      "<class 'pandas.core.frame.DataFrame'>\n",
      "RangeIndex: 980 entries, 0 to 979\n",
      "Data columns (total 16 columns):\n",
      " #   Column         Non-Null Count  Dtype  \n",
      "---  ------         --------------  -----  \n",
      " 0   id             980 non-null    object \n",
      " 1   alias          980 non-null    object \n",
      " 2   name           980 non-null    object \n",
      " 3   image_url      980 non-null    object \n",
      " 4   is_closed      980 non-null    bool   \n",
      " 5   url            980 non-null    object \n",
      " 6   review_count   980 non-null    int64  \n",
      " 7   categories     980 non-null    object \n",
      " 8   rating         980 non-null    float64\n",
      " 9   coordinates    980 non-null    object \n",
      " 10  transactions   980 non-null    object \n",
      " 11  price          812 non-null    object \n",
      " 12  location       980 non-null    object \n",
      " 13  phone          980 non-null    object \n",
      " 14  display_phone  980 non-null    object \n",
      " 15  distance       980 non-null    float64\n",
      "dtypes: bool(1), float64(2), int64(1), object(12)\n",
      "memory usage: 115.9+ KB\n",
      "None\n"
     ]
    },
    {
     "data": {
      "text/html": [
       "<div>\n",
       "<style scoped>\n",
       "    .dataframe tbody tr th:only-of-type {\n",
       "        vertical-align: middle;\n",
       "    }\n",
       "\n",
       "    .dataframe tbody tr th {\n",
       "        vertical-align: top;\n",
       "    }\n",
       "\n",
       "    .dataframe thead th {\n",
       "        text-align: right;\n",
       "    }\n",
       "</style>\n",
       "<table border=\"1\" class=\"dataframe\">\n",
       "  <thead>\n",
       "    <tr style=\"text-align: right;\">\n",
       "      <th></th>\n",
       "      <th>id</th>\n",
       "      <th>alias</th>\n",
       "      <th>name</th>\n",
       "      <th>image_url</th>\n",
       "      <th>is_closed</th>\n",
       "      <th>url</th>\n",
       "      <th>review_count</th>\n",
       "      <th>categories</th>\n",
       "      <th>rating</th>\n",
       "      <th>coordinates</th>\n",
       "      <th>transactions</th>\n",
       "      <th>price</th>\n",
       "      <th>location</th>\n",
       "      <th>phone</th>\n",
       "      <th>display_phone</th>\n",
       "      <th>distance</th>\n",
       "    </tr>\n",
       "  </thead>\n",
       "  <tbody>\n",
       "    <tr>\n",
       "      <th>0</th>\n",
       "      <td>IX34m-olKrlEeeEIXEPh9g</td>\n",
       "      <td>francos-ristorante-chicago</td>\n",
       "      <td>Franco's Ristorante</td>\n",
       "      <td>https://s3-media3.fl.yelpcdn.com/bphoto/s1igyi...</td>\n",
       "      <td>False</td>\n",
       "      <td>https://www.yelp.com/biz/francos-ristorante-ch...</td>\n",
       "      <td>305</td>\n",
       "      <td>[{'alias': 'italian', 'title': 'Italian'}]</td>\n",
       "      <td>4.5</td>\n",
       "      <td>{'latitude': 41.83843, 'longitude': -87.6343}</td>\n",
       "      <td>[delivery, pickup]</td>\n",
       "      <td>$$</td>\n",
       "      <td>{'address1': '300 W 31st St', 'address2': '', ...</td>\n",
       "      <td>+13122259566</td>\n",
       "      <td>(312) 225-9566</td>\n",
       "      <td>8064.668317</td>\n",
       "    </tr>\n",
       "    <tr>\n",
       "      <th>1</th>\n",
       "      <td>7vsOVA4wrHP6f3DMQdD8og</td>\n",
       "      <td>volare-ristorante-italiano-chicago</td>\n",
       "      <td>Volare Ristorante Italiano</td>\n",
       "      <td>https://s3-media2.fl.yelpcdn.com/bphoto/wxlYbK...</td>\n",
       "      <td>False</td>\n",
       "      <td>https://www.yelp.com/biz/volare-ristorante-ita...</td>\n",
       "      <td>2626</td>\n",
       "      <td>[{'alias': 'italian', 'title': 'Italian'}]</td>\n",
       "      <td>4.0</td>\n",
       "      <td>{'latitude': 41.8915901798304, 'longitude': -8...</td>\n",
       "      <td>[delivery, restaurant_reservation, pickup]</td>\n",
       "      <td>$$</td>\n",
       "      <td>{'address1': '201 E Grand Ave', 'address2': ''...</td>\n",
       "      <td>+13124109900</td>\n",
       "      <td>(312) 410-9900</td>\n",
       "      <td>11184.586803</td>\n",
       "    </tr>\n",
       "    <tr>\n",
       "      <th>2</th>\n",
       "      <td>imArj2D-DaXLHAeQlnrzJg</td>\n",
       "      <td>ciao-ragazzi-restaurant-and-bar-chicago</td>\n",
       "      <td>Ciao Ragazzi Restaurant &amp; Bar</td>\n",
       "      <td>https://s3-media3.fl.yelpcdn.com/bphoto/zmABRG...</td>\n",
       "      <td>False</td>\n",
       "      <td>https://www.yelp.com/biz/ciao-ragazzi-restaura...</td>\n",
       "      <td>49</td>\n",
       "      <td>[{'alias': 'italian', 'title': 'Italian'}]</td>\n",
       "      <td>4.5</td>\n",
       "      <td>{'latitude': 41.79295188433059, 'longitude': -...</td>\n",
       "      <td>[]</td>\n",
       "      <td>NaN</td>\n",
       "      <td>{'address1': '5440 S Narragansett Ave', 'addre...</td>\n",
       "      <td>+17733060093</td>\n",
       "      <td>(773) 306-0093</td>\n",
       "      <td>6051.110816</td>\n",
       "    </tr>\n",
       "    <tr>\n",
       "      <th>3</th>\n",
       "      <td>MAj5LwDtHpViU2GcEWR8mQ</td>\n",
       "      <td>nonna-silvias-trattoria-and-pizzeria-park-ridge-3</td>\n",
       "      <td>Nonna Silvia's Trattoria &amp; Pizzeria</td>\n",
       "      <td>https://s3-media1.fl.yelpcdn.com/bphoto/XEyaW9...</td>\n",
       "      <td>False</td>\n",
       "      <td>https://www.yelp.com/biz/nonna-silvias-trattor...</td>\n",
       "      <td>542</td>\n",
       "      <td>[{'alias': 'italian', 'title': 'Italian'}]</td>\n",
       "      <td>4.5</td>\n",
       "      <td>{'latitude': 41.993232, 'longitude': -87.822427}</td>\n",
       "      <td>[delivery, pickup]</td>\n",
       "      <td>$$</td>\n",
       "      <td>{'address1': '1400 Canfield Rd', 'address2': '...</td>\n",
       "      <td>+18472929970</td>\n",
       "      <td>(847) 292-9970</td>\n",
       "      <td>19449.347223</td>\n",
       "    </tr>\n",
       "    <tr>\n",
       "      <th>4</th>\n",
       "      <td>3NViikBJwbjvq1ensGYRcw</td>\n",
       "      <td>pasta-d-arte-trattoria-italiana-chicago-2</td>\n",
       "      <td>Pasta D'Arte Trattoria Italiana</td>\n",
       "      <td>https://s3-media3.fl.yelpcdn.com/bphoto/yd8Fq6...</td>\n",
       "      <td>False</td>\n",
       "      <td>https://www.yelp.com/biz/pasta-d-arte-trattori...</td>\n",
       "      <td>569</td>\n",
       "      <td>[{'alias': 'italian', 'title': 'Italian'}]</td>\n",
       "      <td>4.5</td>\n",
       "      <td>{'latitude': 41.99563, 'longitude': -87.78578}</td>\n",
       "      <td>[delivery, pickup]</td>\n",
       "      <td>$$</td>\n",
       "      <td>{'address1': '6311 N Milwaukee Ave', 'address2...</td>\n",
       "      <td>+17737631181</td>\n",
       "      <td>(773) 763-1181</td>\n",
       "      <td>18747.355632</td>\n",
       "    </tr>\n",
       "  </tbody>\n",
       "</table>\n",
       "</div>"
      ],
      "text/plain": [
       "                       id                                              alias  \\\n",
       "0  IX34m-olKrlEeeEIXEPh9g                         francos-ristorante-chicago   \n",
       "1  7vsOVA4wrHP6f3DMQdD8og                 volare-ristorante-italiano-chicago   \n",
       "2  imArj2D-DaXLHAeQlnrzJg            ciao-ragazzi-restaurant-and-bar-chicago   \n",
       "3  MAj5LwDtHpViU2GcEWR8mQ  nonna-silvias-trattoria-and-pizzeria-park-ridge-3   \n",
       "4  3NViikBJwbjvq1ensGYRcw          pasta-d-arte-trattoria-italiana-chicago-2   \n",
       "\n",
       "                                  name  \\\n",
       "0                  Franco's Ristorante   \n",
       "1           Volare Ristorante Italiano   \n",
       "2        Ciao Ragazzi Restaurant & Bar   \n",
       "3  Nonna Silvia's Trattoria & Pizzeria   \n",
       "4      Pasta D'Arte Trattoria Italiana   \n",
       "\n",
       "                                           image_url  is_closed  \\\n",
       "0  https://s3-media3.fl.yelpcdn.com/bphoto/s1igyi...      False   \n",
       "1  https://s3-media2.fl.yelpcdn.com/bphoto/wxlYbK...      False   \n",
       "2  https://s3-media3.fl.yelpcdn.com/bphoto/zmABRG...      False   \n",
       "3  https://s3-media1.fl.yelpcdn.com/bphoto/XEyaW9...      False   \n",
       "4  https://s3-media3.fl.yelpcdn.com/bphoto/yd8Fq6...      False   \n",
       "\n",
       "                                                 url  review_count  \\\n",
       "0  https://www.yelp.com/biz/francos-ristorante-ch...           305   \n",
       "1  https://www.yelp.com/biz/volare-ristorante-ita...          2626   \n",
       "2  https://www.yelp.com/biz/ciao-ragazzi-restaura...            49   \n",
       "3  https://www.yelp.com/biz/nonna-silvias-trattor...           542   \n",
       "4  https://www.yelp.com/biz/pasta-d-arte-trattori...           569   \n",
       "\n",
       "                                   categories  rating  \\\n",
       "0  [{'alias': 'italian', 'title': 'Italian'}]     4.5   \n",
       "1  [{'alias': 'italian', 'title': 'Italian'}]     4.0   \n",
       "2  [{'alias': 'italian', 'title': 'Italian'}]     4.5   \n",
       "3  [{'alias': 'italian', 'title': 'Italian'}]     4.5   \n",
       "4  [{'alias': 'italian', 'title': 'Italian'}]     4.5   \n",
       "\n",
       "                                         coordinates  \\\n",
       "0      {'latitude': 41.83843, 'longitude': -87.6343}   \n",
       "1  {'latitude': 41.8915901798304, 'longitude': -8...   \n",
       "2  {'latitude': 41.79295188433059, 'longitude': -...   \n",
       "3   {'latitude': 41.993232, 'longitude': -87.822427}   \n",
       "4     {'latitude': 41.99563, 'longitude': -87.78578}   \n",
       "\n",
       "                                 transactions price  \\\n",
       "0                          [delivery, pickup]    $$   \n",
       "1  [delivery, restaurant_reservation, pickup]    $$   \n",
       "2                                          []   NaN   \n",
       "3                          [delivery, pickup]    $$   \n",
       "4                          [delivery, pickup]    $$   \n",
       "\n",
       "                                            location         phone  \\\n",
       "0  {'address1': '300 W 31st St', 'address2': '', ...  +13122259566   \n",
       "1  {'address1': '201 E Grand Ave', 'address2': ''...  +13124109900   \n",
       "2  {'address1': '5440 S Narragansett Ave', 'addre...  +17733060093   \n",
       "3  {'address1': '1400 Canfield Rd', 'address2': '...  +18472929970   \n",
       "4  {'address1': '6311 N Milwaukee Ave', 'address2...  +17737631181   \n",
       "\n",
       "    display_phone      distance  \n",
       "0  (312) 225-9566   8064.668317  \n",
       "1  (312) 410-9900  11184.586803  \n",
       "2  (773) 306-0093   6051.110816  \n",
       "3  (847) 292-9970  19449.347223  \n",
       "4  (773) 763-1181  18747.355632  "
      ]
     },
     "execution_count": 26,
     "metadata": {},
     "output_type": "execute_result"
    }
   ],
   "source": [
    "df = pd.read_json(JSON_FILE)\n",
    "print(df.info())\n",
    "df.head()"
   ]
  },
  {
   "cell_type": "code",
   "execution_count": 27,
   "id": "1d6f6446",
   "metadata": {},
   "outputs": [
    {
     "data": {
      "text/plain": [
       "'Data/results_in_progress_Chicago_Italian.csv.gz'"
      ]
     },
     "execution_count": 27,
     "metadata": {},
     "output_type": "execute_result"
    }
   ],
   "source": [
    "## convert the filename to a .csv.gz\n",
    "csv_file = JSON_FILE.replace('.json','.csv.gz')\n",
    "csv_file"
   ]
  },
  {
   "cell_type": "code",
   "execution_count": 28,
   "id": "9f38f8db",
   "metadata": {},
   "outputs": [],
   "source": [
    "## Save it as a compressed csv (to save space)\n",
    "df.to_csv(csv_file, compression = 'gzip', index = False)"
   ]
  },
  {
   "cell_type": "markdown",
   "id": "14e6735d",
   "metadata": {},
   "source": [
    "## Compare file size"
   ]
  },
  {
   "cell_type": "code",
   "execution_count": 29,
   "id": "f78c3f38",
   "metadata": {},
   "outputs": [
    {
     "name": "stdout",
     "output_type": "stream",
     "text": [
      "JSON FILE: 961,605 Bytes\n",
      "CSV.GZ FILE: 147,192 Bytes\n",
      "the csv.gz is 6.532997717267243 times smaller!\n"
     ]
    }
   ],
   "source": [
    "size_json = os.path.getsize(JSON_FILE)\n",
    "size_csv_gz = os.path.getsize(JSON_FILE.replace('.json','.csv.gz'))\n",
    "\n",
    "print(f'JSON FILE: {size_json:,} Bytes')\n",
    "print(f'CSV.GZ FILE: {size_csv_gz:,} Bytes')\n",
    "\n",
    "print(f'the csv.gz is {size_json/size_csv_gz} times smaller!')"
   ]
  }
 ],
 "metadata": {
  "kernelspec": {
   "display_name": "Python (dojo-env)",
   "language": "python",
   "name": "dojo-env"
  },
  "language_info": {
   "codemirror_mode": {
    "name": "ipython",
    "version": 3
   },
   "file_extension": ".py",
   "mimetype": "text/x-python",
   "name": "python",
   "nbconvert_exporter": "python",
   "pygments_lexer": "ipython3",
   "version": "3.9.15"
  },
  "toc": {
   "base_numbering": 1,
   "nav_menu": {},
   "number_sections": false,
   "sideBar": true,
   "skip_h1_title": false,
   "title_cell": "Table of Contents",
   "title_sidebar": "Contents",
   "toc_cell": false,
   "toc_position": {},
   "toc_section_display": true,
   "toc_window_display": false
  }
 },
 "nbformat": 4,
 "nbformat_minor": 5
}
