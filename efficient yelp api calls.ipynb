{
 "cells": [
  {
   "cell_type": "markdown",
   "id": "22cc27a2",
   "metadata": {},
   "source": [
    "# Efficient API Extraction Method to Obtain Data from Yelp"
   ]
  },
  {
   "cell_type": "markdown",
   "id": "548d3226",
   "metadata": {},
   "source": [
    "## Objective\n",
    "\n",
    "- Using the Yelp API to search my favorite city for a cuisine type of my choice.\n",
    "\n",
    "- Extract all of the results from your search and compile them into one dataframe \n",
    "\n",
    "- Loop through a list of queries and save the results throughout the loop\n",
    "\n",
    "- Use the tqdm lib to make a progress bar to track the time remaining in a loop"
   ]
  },
  {
   "cell_type": "code",
   "execution_count": 3,
   "id": "acf8560d",
   "metadata": {},
   "outputs": [],
   "source": [
    "# imports\n",
    "import pandas as pd\n",
    "import numpy as np\n",
    "import matplotlib.pyplot as plt\n",
    "import seaborn as sns\n",
    "\n",
    "#additional imports\n",
    "import os, json, math, time\n",
    "from yelpapi import YelpAPI\n",
    "from tqdm.notebook import tqdm_notebook\n",
    "\n"
   ]
  },
  {
   "cell_type": "markdown",
   "id": "c963d077",
   "metadata": {},
   "source": [
    "## Load credentials and create yelp api object "
   ]
  },
  {
   "cell_type": "code",
   "execution_count": 4,
   "id": "2bcfd908",
   "metadata": {},
   "outputs": [
    {
     "data": {
      "text/plain": [
       "dict_keys(['client-id', 'api-key'])"
      ]
     },
     "execution_count": 4,
     "metadata": {},
     "output_type": "execute_result"
    }
   ],
   "source": [
    "# Load API credentials\n",
    "with open('/Users/heng-tsertsai/.secret/yelp_api.json') as f:\n",
    "    login = json.load(f)\n",
    "login.keys()"
   ]
  },
  {
   "cell_type": "code",
   "execution_count": 5,
   "id": "fb292821",
   "metadata": {},
   "outputs": [
    {
     "data": {
      "text/plain": [
       "<yelpapi.yelpapi.YelpAPI at 0x119e26c40>"
      ]
     },
     "execution_count": 5,
     "metadata": {},
     "output_type": "execute_result"
    }
   ],
   "source": [
    "# instantiate yelpapi variable\n",
    "yelp_api = YelpAPI(login['api-key'], timeout_s=5.0)\n",
    "yelp_api"
   ]
  },
  {
   "cell_type": "markdown",
   "id": "81eade99",
   "metadata": {},
   "source": [
    "## Define search and file path"
   ]
  },
  {
   "cell_type": "code",
   "execution_count": 11,
   "id": "09d7d91b",
   "metadata": {},
   "outputs": [],
   "source": [
    "# use our yelp_api variable's search_query method to perform our API call\n",
    "location='Chicago, IL'\n",
    "term='Italian'"
   ]
  },
  {
   "cell_type": "code",
   "execution_count": 12,
   "id": "0c99db9f",
   "metadata": {
    "scrolled": true
   },
   "outputs": [
    {
     "data": {
      "text/plain": [
       "'Data/results_in_progress_Chicago_Italian.json'"
      ]
     },
     "execution_count": 12,
     "metadata": {},
     "output_type": "execute_result"
    }
   ],
   "source": [
    "#specify folder to save data\n",
    "FOLDER = 'Data/'\n",
    "os.makedirs(FOLDER, exist_ok = True)\n",
    "\n",
    "#specify JSON file name in a programatic way\n",
    "JSON_FILE = FOLDER+f\"results_in_progress_{location.split(',')[0]}_{term}.json\"\n",
    "JSON_FILE"
   ]
  },
  {
   "cell_type": "markdown",
   "id": "05a973cd",
   "metadata": {},
   "source": [
    "## Check if JSON file exists"
   ]
  },
  {
   "cell_type": "code",
   "execution_count": 13,
   "id": "8c23fb9d",
   "metadata": {},
   "outputs": [
    {
     "name": "stdout",
     "output_type": "stream",
     "text": [
      "[i] Data/results_in_progress_Chicago_Italian.json not found. Saving empty list to file.\n"
     ]
    }
   ],
   "source": [
    "## Check if JSON_FILE exists\n",
    "file_exists = os.path.isfile(JSON_FILE)\n",
    "## If it does not exist: \n",
    "if file_exists == False:\n",
    "    \n",
    "    ## CREATE ANY NEEDED FOLDERS\n",
    "    # Get the Folder Name only\n",
    "    folder = os.path.dirname(JSON_FILE)\n",
    "    ## If JSON_FILE included a folder:\n",
    "    if len(folder)>0:\n",
    "        # create the folder\n",
    "        os.makedirs(folder,exist_ok=True)\n",
    "        \n",
    "        \n",
    "    ## INFORM USER AND SAVE EMPTY LIST\n",
    "    print(f'[i] {JSON_FILE} not found. Saving empty list to file.')\n",
    "    \n",
    "    \n",
    "    # save an empty list\n",
    "    with open(JSON_FILE,'w') as f:\n",
    "        json.dump([],f)  \n",
    "# If it exists, inform user\n",
    "else:\n",
    "    print(f\"[i] {JSON_FILE} already exists.\")"
   ]
  },
  {
   "cell_type": "markdown",
   "id": "2b509219",
   "metadata": {},
   "source": [
    "## Determine how many results are already in the file\n"
   ]
  },
  {
   "cell_type": "code",
   "execution_count": 14,
   "id": "dd2e511e",
   "metadata": {},
   "outputs": [
    {
     "name": "stdout",
     "output_type": "stream",
     "text": [
      "- 0 previous results found.\n"
     ]
    }
   ],
   "source": [
    "## Load previous results and use len of results for offset\n",
    "with open(JSON_FILE,'r') as f:\n",
    "    previous_results = json.load(f)\n",
    "    \n",
    "## set offset based on previous results\n",
    "n_results = len(previous_results)\n",
    "print(f'- {n_results} previous results found.')"
   ]
  },
  {
   "cell_type": "markdown",
   "id": "d56662a7",
   "metadata": {},
   "source": [
    "## Figure out how many pages of results we will need\n",
    "\n",
    "- API will return results by pages\n",
    "- Let's perform query to get first page of results and. the total # of results\n",
    "- Then we will calculate how many pages needed to retrieve all results"
   ]
  },
  {
   "cell_type": "code",
   "execution_count": 16,
   "id": "9cf1b4f2",
   "metadata": {},
   "outputs": [
    {
     "data": {
      "text/plain": [
       "dict_keys(['businesses', 'total', 'region'])"
      ]
     },
     "execution_count": 16,
     "metadata": {},
     "output_type": "execute_result"
    }
   ],
   "source": [
    "# use our yelp_api variable's search_query method to perform our API call\n",
    "results = yelp_api.search_query(location=location,\n",
    "                                term=term,\n",
    "                               offset=n_results)\n",
    "results.keys()"
   ]
  },
  {
   "cell_type": "code",
   "execution_count": 18,
   "id": "06e9328f",
   "metadata": {
    "scrolled": true
   },
   "outputs": [
    {
     "data": {
      "text/plain": [
       "4600"
      ]
     },
     "execution_count": 18,
     "metadata": {},
     "output_type": "execute_result"
    }
   ],
   "source": [
    "# how many results in total?\n",
    "total_results = results['total']\n",
    "total_results"
   ]
  },
  {
   "cell_type": "code",
   "execution_count": 21,
   "id": "44aab352",
   "metadata": {},
   "outputs": [
    {
     "data": {
      "text/plain": [
       "20"
      ]
     },
     "execution_count": 21,
     "metadata": {},
     "output_type": "execute_result"
    }
   ],
   "source": [
    "# how many results we got from api call?\n",
    "results_per_page = len(results['businesses'])\n",
    "results_per_page"
   ]
  },
  {
   "cell_type": "code",
   "execution_count": 23,
   "id": "b86d563e",
   "metadata": {},
   "outputs": [
    {
     "data": {
      "text/plain": [
       "230"
      ]
     },
     "execution_count": 23,
     "metadata": {},
     "output_type": "execute_result"
    }
   ],
   "source": [
    "# how many # of calls needed for all results\n",
    "n_pages = math.ceil((results['total'] - n_results)/ results_per_page)\n",
    "n_pages"
   ]
  },
  {
   "cell_type": "code",
   "execution_count": 25,
   "id": "fd0e4a8f",
   "metadata": {},
   "outputs": [
    {
     "data": {
      "application/vnd.jupyter.widget-view+json": {
       "model_id": "7c80200541444e47ab69d490367d1303",
       "version_major": 2,
       "version_minor": 0
      },
      "text/plain": [
       "  0%|          | 0/230 [00:00<?, ?it/s]"
      ]
     },
     "metadata": {},
     "output_type": "display_data"
    },
    {
     "name": "stdout",
     "output_type": "stream",
     "text": [
      " [!] ERROR VALIDATION_ERROR: Too many results requested, limit+offset must be <= 1000.\n",
      " [!] ERROR VALIDATION_ERROR: Too many results requested, limit+offset must be <= 1000.\n",
      " [!] ERROR VALIDATION_ERROR: Too many results requested, limit+offset must be <= 1000.\n",
      " [!] ERROR VALIDATION_ERROR: Too many results requested, limit+offset must be <= 1000.\n",
      " [!] ERROR VALIDATION_ERROR: Too many results requested, limit+offset must be <= 1000.\n",
      " [!] ERROR VALIDATION_ERROR: Too many results requested, limit+offset must be <= 1000.\n",
      " [!] ERROR VALIDATION_ERROR: Too many results requested, limit+offset must be <= 1000.\n",
      " [!] ERROR VALIDATION_ERROR: Too many results requested, limit+offset must be <= 1000.\n",
      " [!] ERROR VALIDATION_ERROR: Too many results requested, limit+offset must be <= 1000.\n",
      " [!] ERROR VALIDATION_ERROR: Too many results requested, limit+offset must be <= 1000.\n",
      " [!] ERROR VALIDATION_ERROR: Too many results requested, limit+offset must be <= 1000.\n",
      " [!] ERROR VALIDATION_ERROR: Too many results requested, limit+offset must be <= 1000.\n",
      " [!] ERROR VALIDATION_ERROR: Too many results requested, limit+offset must be <= 1000.\n",
      " [!] ERROR VALIDATION_ERROR: Too many results requested, limit+offset must be <= 1000.\n",
      " [!] ERROR VALIDATION_ERROR: Too many results requested, limit+offset must be <= 1000.\n",
      " [!] ERROR VALIDATION_ERROR: Too many results requested, limit+offset must be <= 1000.\n",
      " [!] ERROR VALIDATION_ERROR: Too many results requested, limit+offset must be <= 1000.\n",
      " [!] ERROR VALIDATION_ERROR: Too many results requested, limit+offset must be <= 1000.\n",
      " [!] ERROR VALIDATION_ERROR: Too many results requested, limit+offset must be <= 1000.\n",
      " [!] ERROR VALIDATION_ERROR: Too many results requested, limit+offset must be <= 1000.\n",
      " [!] ERROR VALIDATION_ERROR: Too many results requested, limit+offset must be <= 1000.\n",
      " [!] ERROR VALIDATION_ERROR: Too many results requested, limit+offset must be <= 1000.\n",
      " [!] ERROR VALIDATION_ERROR: Too many results requested, limit+offset must be <= 1000.\n",
      " [!] ERROR VALIDATION_ERROR: Too many results requested, limit+offset must be <= 1000.\n",
      " [!] ERROR VALIDATION_ERROR: Too many results requested, limit+offset must be <= 1000.\n",
      " [!] ERROR VALIDATION_ERROR: Too many results requested, limit+offset must be <= 1000.\n",
      " [!] ERROR VALIDATION_ERROR: Too many results requested, limit+offset must be <= 1000.\n",
      " [!] ERROR VALIDATION_ERROR: Too many results requested, limit+offset must be <= 1000.\n",
      " [!] ERROR VALIDATION_ERROR: Too many results requested, limit+offset must be <= 1000.\n",
      " [!] ERROR VALIDATION_ERROR: Too many results requested, limit+offset must be <= 1000.\n",
      " [!] ERROR VALIDATION_ERROR: Too many results requested, limit+offset must be <= 1000.\n",
      " [!] ERROR VALIDATION_ERROR: Too many results requested, limit+offset must be <= 1000.\n",
      " [!] ERROR VALIDATION_ERROR: Too many results requested, limit+offset must be <= 1000.\n",
      " [!] ERROR VALIDATION_ERROR: Too many results requested, limit+offset must be <= 1000.\n",
      " [!] ERROR VALIDATION_ERROR: Too many results requested, limit+offset must be <= 1000.\n",
      " [!] ERROR VALIDATION_ERROR: Too many results requested, limit+offset must be <= 1000.\n",
      " [!] ERROR VALIDATION_ERROR: Too many results requested, limit+offset must be <= 1000.\n",
      " [!] ERROR VALIDATION_ERROR: Too many results requested, limit+offset must be <= 1000.\n",
      " [!] ERROR VALIDATION_ERROR: Too many results requested, limit+offset must be <= 1000.\n",
      " [!] ERROR VALIDATION_ERROR: Too many results requested, limit+offset must be <= 1000.\n",
      " [!] ERROR VALIDATION_ERROR: Too many results requested, limit+offset must be <= 1000.\n",
      " [!] ERROR VALIDATION_ERROR: Too many results requested, limit+offset must be <= 1000.\n",
      " [!] ERROR VALIDATION_ERROR: Too many results requested, limit+offset must be <= 1000.\n",
      " [!] ERROR VALIDATION_ERROR: Too many results requested, limit+offset must be <= 1000.\n",
      " [!] ERROR VALIDATION_ERROR: Too many results requested, limit+offset must be <= 1000.\n",
      " [!] ERROR VALIDATION_ERROR: Too many results requested, limit+offset must be <= 1000.\n",
      " [!] ERROR VALIDATION_ERROR: Too many results requested, limit+offset must be <= 1000.\n",
      " [!] ERROR VALIDATION_ERROR: Too many results requested, limit+offset must be <= 1000.\n",
      " [!] ERROR VALIDATION_ERROR: Too many results requested, limit+offset must be <= 1000.\n",
      " [!] ERROR VALIDATION_ERROR: Too many results requested, limit+offset must be <= 1000.\n",
      " [!] ERROR VALIDATION_ERROR: Too many results requested, limit+offset must be <= 1000.\n",
      " [!] ERROR VALIDATION_ERROR: Too many results requested, limit+offset must be <= 1000.\n",
      " [!] ERROR VALIDATION_ERROR: Too many results requested, limit+offset must be <= 1000.\n",
      " [!] ERROR VALIDATION_ERROR: Too many results requested, limit+offset must be <= 1000.\n",
      " [!] ERROR VALIDATION_ERROR: Too many results requested, limit+offset must be <= 1000.\n",
      " [!] ERROR VALIDATION_ERROR: Too many results requested, limit+offset must be <= 1000.\n",
      " [!] ERROR VALIDATION_ERROR: Too many results requested, limit+offset must be <= 1000.\n",
      " [!] ERROR VALIDATION_ERROR: Too many results requested, limit+offset must be <= 1000.\n",
      " [!] ERROR VALIDATION_ERROR: Too many results requested, limit+offset must be <= 1000.\n",
      " [!] ERROR VALIDATION_ERROR: Too many results requested, limit+offset must be <= 1000.\n",
      " [!] ERROR VALIDATION_ERROR: Too many results requested, limit+offset must be <= 1000.\n",
      " [!] ERROR VALIDATION_ERROR: Too many results requested, limit+offset must be <= 1000.\n",
      " [!] ERROR VALIDATION_ERROR: Too many results requested, limit+offset must be <= 1000.\n",
      " [!] ERROR VALIDATION_ERROR: Too many results requested, limit+offset must be <= 1000.\n",
      " [!] ERROR VALIDATION_ERROR: Too many results requested, limit+offset must be <= 1000.\n",
      " [!] ERROR VALIDATION_ERROR: Too many results requested, limit+offset must be <= 1000.\n",
      " [!] ERROR VALIDATION_ERROR: Too many results requested, limit+offset must be <= 1000.\n",
      " [!] ERROR VALIDATION_ERROR: Too many results requested, limit+offset must be <= 1000.\n",
      " [!] ERROR VALIDATION_ERROR: Too many results requested, limit+offset must be <= 1000.\n",
      " [!] ERROR VALIDATION_ERROR: Too many results requested, limit+offset must be <= 1000.\n",
      " [!] ERROR VALIDATION_ERROR: Too many results requested, limit+offset must be <= 1000.\n",
      " [!] ERROR VALIDATION_ERROR: Too many results requested, limit+offset must be <= 1000.\n",
      " [!] ERROR VALIDATION_ERROR: Too many results requested, limit+offset must be <= 1000.\n",
      " [!] ERROR VALIDATION_ERROR: Too many results requested, limit+offset must be <= 1000.\n",
      " [!] ERROR VALIDATION_ERROR: Too many results requested, limit+offset must be <= 1000.\n",
      " [!] ERROR VALIDATION_ERROR: Too many results requested, limit+offset must be <= 1000.\n",
      " [!] ERROR VALIDATION_ERROR: Too many results requested, limit+offset must be <= 1000.\n",
      " [!] ERROR VALIDATION_ERROR: Too many results requested, limit+offset must be <= 1000.\n",
      " [!] ERROR VALIDATION_ERROR: Too many results requested, limit+offset must be <= 1000.\n",
      " [!] ERROR VALIDATION_ERROR: Too many results requested, limit+offset must be <= 1000.\n",
      " [!] ERROR VALIDATION_ERROR: Too many results requested, limit+offset must be <= 1000.\n",
      " [!] ERROR VALIDATION_ERROR: Too many results requested, limit+offset must be <= 1000.\n",
      " [!] ERROR VALIDATION_ERROR: Too many results requested, limit+offset must be <= 1000.\n",
      " [!] ERROR VALIDATION_ERROR: Too many results requested, limit+offset must be <= 1000.\n",
      " [!] ERROR VALIDATION_ERROR: Too many results requested, limit+offset must be <= 1000.\n",
      " [!] ERROR VALIDATION_ERROR: Too many results requested, limit+offset must be <= 1000.\n",
      " [!] ERROR VALIDATION_ERROR: Too many results requested, limit+offset must be <= 1000.\n",
      " [!] ERROR VALIDATION_ERROR: Too many results requested, limit+offset must be <= 1000.\n",
      " [!] ERROR VALIDATION_ERROR: Too many results requested, limit+offset must be <= 1000.\n",
      " [!] ERROR VALIDATION_ERROR: Too many results requested, limit+offset must be <= 1000.\n",
      " [!] ERROR VALIDATION_ERROR: Too many results requested, limit+offset must be <= 1000.\n",
      " [!] ERROR VALIDATION_ERROR: Too many results requested, limit+offset must be <= 1000.\n",
      " [!] ERROR VALIDATION_ERROR: Too many results requested, limit+offset must be <= 1000.\n",
      " [!] ERROR VALIDATION_ERROR: Too many results requested, limit+offset must be <= 1000.\n",
      " [!] ERROR VALIDATION_ERROR: Too many results requested, limit+offset must be <= 1000.\n"
     ]
    },
    {
     "name": "stdout",
     "output_type": "stream",
     "text": [
      " [!] ERROR VALIDATION_ERROR: Too many results requested, limit+offset must be <= 1000.\n",
      " [!] ERROR VALIDATION_ERROR: Too many results requested, limit+offset must be <= 1000.\n",
      " [!] ERROR VALIDATION_ERROR: Too many results requested, limit+offset must be <= 1000.\n",
      " [!] ERROR VALIDATION_ERROR: Too many results requested, limit+offset must be <= 1000.\n",
      " [!] ERROR VALIDATION_ERROR: Too many results requested, limit+offset must be <= 1000.\n",
      " [!] ERROR VALIDATION_ERROR: Too many results requested, limit+offset must be <= 1000.\n",
      " [!] ERROR VALIDATION_ERROR: Too many results requested, limit+offset must be <= 1000.\n",
      " [!] ERROR VALIDATION_ERROR: Too many results requested, limit+offset must be <= 1000.\n",
      " [!] ERROR VALIDATION_ERROR: Too many results requested, limit+offset must be <= 1000.\n",
      " [!] ERROR VALIDATION_ERROR: Too many results requested, limit+offset must be <= 1000.\n",
      " [!] ERROR VALIDATION_ERROR: Too many results requested, limit+offset must be <= 1000.\n",
      " [!] ERROR VALIDATION_ERROR: Too many results requested, limit+offset must be <= 1000.\n",
      " [!] ERROR VALIDATION_ERROR: Too many results requested, limit+offset must be <= 1000.\n",
      " [!] ERROR VALIDATION_ERROR: Too many results requested, limit+offset must be <= 1000.\n",
      " [!] ERROR VALIDATION_ERROR: Too many results requested, limit+offset must be <= 1000.\n",
      " [!] ERROR VALIDATION_ERROR: Too many results requested, limit+offset must be <= 1000.\n",
      " [!] ERROR VALIDATION_ERROR: Too many results requested, limit+offset must be <= 1000.\n",
      " [!] ERROR VALIDATION_ERROR: Too many results requested, limit+offset must be <= 1000.\n",
      " [!] ERROR VALIDATION_ERROR: Too many results requested, limit+offset must be <= 1000.\n",
      " [!] ERROR VALIDATION_ERROR: Too many results requested, limit+offset must be <= 1000.\n",
      " [!] ERROR VALIDATION_ERROR: Too many results requested, limit+offset must be <= 1000.\n",
      " [!] ERROR VALIDATION_ERROR: Too many results requested, limit+offset must be <= 1000.\n",
      " [!] ERROR VALIDATION_ERROR: Too many results requested, limit+offset must be <= 1000.\n",
      " [!] ERROR VALIDATION_ERROR: Too many results requested, limit+offset must be <= 1000.\n",
      " [!] ERROR VALIDATION_ERROR: Too many results requested, limit+offset must be <= 1000.\n",
      " [!] ERROR VALIDATION_ERROR: Too many results requested, limit+offset must be <= 1000.\n",
      " [!] ERROR VALIDATION_ERROR: Too many results requested, limit+offset must be <= 1000.\n",
      " [!] ERROR VALIDATION_ERROR: Too many results requested, limit+offset must be <= 1000.\n",
      " [!] ERROR VALIDATION_ERROR: Too many results requested, limit+offset must be <= 1000.\n",
      " [!] ERROR VALIDATION_ERROR: Too many results requested, limit+offset must be <= 1000.\n",
      " [!] ERROR VALIDATION_ERROR: Too many results requested, limit+offset must be <= 1000.\n",
      " [!] ERROR VALIDATION_ERROR: Too many results requested, limit+offset must be <= 1000.\n",
      " [!] ERROR VALIDATION_ERROR: Too many results requested, limit+offset must be <= 1000.\n",
      " [!] ERROR VALIDATION_ERROR: Too many results requested, limit+offset must be <= 1000.\n",
      " [!] ERROR VALIDATION_ERROR: Too many results requested, limit+offset must be <= 1000.\n",
      " [!] ERROR VALIDATION_ERROR: Too many results requested, limit+offset must be <= 1000.\n",
      " [!] ERROR VALIDATION_ERROR: Too many results requested, limit+offset must be <= 1000.\n",
      " [!] ERROR VALIDATION_ERROR: Too many results requested, limit+offset must be <= 1000.\n",
      " [!] ERROR VALIDATION_ERROR: Too many results requested, limit+offset must be <= 1000.\n",
      " [!] ERROR VALIDATION_ERROR: Too many results requested, limit+offset must be <= 1000.\n",
      " [!] ERROR VALIDATION_ERROR: Too many results requested, limit+offset must be <= 1000.\n",
      " [!] ERROR VALIDATION_ERROR: Too many results requested, limit+offset must be <= 1000.\n",
      " [!] ERROR VALIDATION_ERROR: Too many results requested, limit+offset must be <= 1000.\n",
      " [!] ERROR VALIDATION_ERROR: Too many results requested, limit+offset must be <= 1000.\n",
      " [!] ERROR VALIDATION_ERROR: Too many results requested, limit+offset must be <= 1000.\n",
      " [!] ERROR VALIDATION_ERROR: Too many results requested, limit+offset must be <= 1000.\n",
      " [!] ERROR VALIDATION_ERROR: Too many results requested, limit+offset must be <= 1000.\n",
      " [!] ERROR VALIDATION_ERROR: Too many results requested, limit+offset must be <= 1000.\n",
      " [!] ERROR VALIDATION_ERROR: Too many results requested, limit+offset must be <= 1000.\n",
      " [!] ERROR VALIDATION_ERROR: Too many results requested, limit+offset must be <= 1000.\n",
      " [!] ERROR VALIDATION_ERROR: Too many results requested, limit+offset must be <= 1000.\n",
      " [!] ERROR VALIDATION_ERROR: Too many results requested, limit+offset must be <= 1000.\n",
      " [!] ERROR VALIDATION_ERROR: Too many results requested, limit+offset must be <= 1000.\n",
      " [!] ERROR VALIDATION_ERROR: Too many results requested, limit+offset must be <= 1000.\n",
      " [!] ERROR VALIDATION_ERROR: Too many results requested, limit+offset must be <= 1000.\n",
      " [!] ERROR VALIDATION_ERROR: Too many results requested, limit+offset must be <= 1000.\n",
      " [!] ERROR VALIDATION_ERROR: Too many results requested, limit+offset must be <= 1000.\n",
      " [!] ERROR VALIDATION_ERROR: Too many results requested, limit+offset must be <= 1000.\n",
      " [!] ERROR VALIDATION_ERROR: Too many results requested, limit+offset must be <= 1000.\n",
      " [!] ERROR VALIDATION_ERROR: Too many results requested, limit+offset must be <= 1000.\n",
      " [!] ERROR VALIDATION_ERROR: Too many results requested, limit+offset must be <= 1000.\n",
      " [!] ERROR VALIDATION_ERROR: Too many results requested, limit+offset must be <= 1000.\n",
      " [!] ERROR VALIDATION_ERROR: Too many results requested, limit+offset must be <= 1000.\n",
      " [!] ERROR VALIDATION_ERROR: Too many results requested, limit+offset must be <= 1000.\n",
      " [!] ERROR VALIDATION_ERROR: Too many results requested, limit+offset must be <= 1000.\n",
      " [!] ERROR VALIDATION_ERROR: Too many results requested, limit+offset must be <= 1000.\n",
      " [!] ERROR VALIDATION_ERROR: Too many results requested, limit+offset must be <= 1000.\n",
      " [!] ERROR VALIDATION_ERROR: Too many results requested, limit+offset must be <= 1000.\n",
      " [!] ERROR VALIDATION_ERROR: Too many results requested, limit+offset must be <= 1000.\n",
      " [!] ERROR VALIDATION_ERROR: Too many results requested, limit+offset must be <= 1000.\n",
      " [!] ERROR VALIDATION_ERROR: Too many results requested, limit+offset must be <= 1000.\n",
      " [!] ERROR VALIDATION_ERROR: Too many results requested, limit+offset must be <= 1000.\n",
      " [!] ERROR VALIDATION_ERROR: Too many results requested, limit+offset must be <= 1000.\n",
      " [!] ERROR VALIDATION_ERROR: Too many results requested, limit+offset must be <= 1000.\n",
      " [!] ERROR VALIDATION_ERROR: Too many results requested, limit+offset must be <= 1000.\n",
      " [!] ERROR VALIDATION_ERROR: Too many results requested, limit+offset must be <= 1000.\n",
      " [!] ERROR VALIDATION_ERROR: Too many results requested, limit+offset must be <= 1000.\n",
      " [!] ERROR VALIDATION_ERROR: Too many results requested, limit+offset must be <= 1000.\n",
      " [!] ERROR VALIDATION_ERROR: Too many results requested, limit+offset must be <= 1000.\n",
      " [!] ERROR VALIDATION_ERROR: Too many results requested, limit+offset must be <= 1000.\n",
      " [!] ERROR VALIDATION_ERROR: Too many results requested, limit+offset must be <= 1000.\n",
      " [!] ERROR VALIDATION_ERROR: Too many results requested, limit+offset must be <= 1000.\n",
      " [!] ERROR VALIDATION_ERROR: Too many results requested, limit+offset must be <= 1000.\n",
      " [!] ERROR VALIDATION_ERROR: Too many results requested, limit+offset must be <= 1000.\n",
      " [!] ERROR VALIDATION_ERROR: Too many results requested, limit+offset must be <= 1000.\n",
      " [!] ERROR VALIDATION_ERROR: Too many results requested, limit+offset must be <= 1000.\n"
     ]
    }
   ],
   "source": [
    "for i in tqdm_notebook(range(1,n_pages+1)):\n",
    "    ## The block of code we want to TRY to run\n",
    "    try:\n",
    "        \n",
    "        time.sleep(.2)\n",
    "        \n",
    "        ## Read in results in progress file and check the length\n",
    "        with open(JSON_FILE, 'r') as f:\n",
    "            previous_results = json.load(f)\n",
    "        \n",
    "        ## save number of results for to use as offset\n",
    "        n_results = len(previous_results)\n",
    "        \n",
    "        \n",
    "        ## use n_results as the OFFSET \n",
    "        results = yelp_api.search_query(location = location, term = term,\n",
    "                                   offset = n_results+1)\n",
    "\n",
    "        ## append new results and save to file\n",
    "        previous_results.extend(results['businesses'])\n",
    "        \n",
    "        with open(JSON_FILE, 'w') as f:\n",
    "            json.dump(previous_results, f)\n",
    "\n",
    "            \n",
    "    ## What to do if we get an error/exception.\n",
    "    except Exception as e:\n",
    "        print(' [!] ERROR', e)"
   ]
  },
  {
   "cell_type": "markdown",
   "id": "9eb20b9d",
   "metadata": {},
   "source": [
    "## Open the Final JSON File with Pandas"
   ]
  },
  {
   "cell_type": "code",
   "execution_count": 26,
   "id": "c59a395a",
   "metadata": {
    "scrolled": true
   },
   "outputs": [
    {
     "name": "stdout",
     "output_type": "stream",
     "text": [
      "<class 'pandas.core.frame.DataFrame'>\n",
      "RangeIndex: 980 entries, 0 to 979\n",
      "Data columns (total 16 columns):\n",
      " #   Column         Non-Null Count  Dtype  \n",
      "---  ------         --------------  -----  \n",
      " 0   id             980 non-null    object \n",
      " 1   alias          980 non-null    object \n",
      " 2   name           980 non-null    object \n",
      " 3   image_url      980 non-null    object \n",
      " 4   is_closed      980 non-null    bool   \n",
      " 5   url            980 non-null    object \n",
      " 6   review_count   980 non-null    int64  \n",
      " 7   categories     980 non-null    object \n",
      " 8   rating         980 non-null    float64\n",
      " 9   coordinates    980 non-null    object \n",
      " 10  transactions   980 non-null    object \n",
      " 11  price          812 non-null    object \n",
      " 12  location       980 non-null    object \n",
      " 13  phone          980 non-null    object \n",
      " 14  display_phone  980 non-null    object \n",
      " 15  distance       980 non-null    float64\n",
      "dtypes: bool(1), float64(2), int64(1), object(12)\n",
      "memory usage: 115.9+ KB\n",
      "None\n"
     ]
    },
    {
     "data": {
      "text/html": [
       "<div>\n",
       "<style scoped>\n",
       "    .dataframe tbody tr th:only-of-type {\n",
       "        vertical-align: middle;\n",
       "    }\n",
       "\n",
       "    .dataframe tbody tr th {\n",
       "        vertical-align: top;\n",
       "    }\n",
       "\n",
       "    .dataframe thead th {\n",
       "        text-align: right;\n",
       "    }\n",
       "</style>\n",
       "<table border=\"1\" class=\"dataframe\">\n",
       "  <thead>\n",
       "    <tr style=\"text-align: right;\">\n",
       "      <th></th>\n",
       "      <th>id</th>\n",
       "      <th>alias</th>\n",
       "      <th>name</th>\n",
       "      <th>image_url</th>\n",
       "      <th>is_closed</th>\n",
       "      <th>url</th>\n",
       "      <th>review_count</th>\n",
       "      <th>categories</th>\n",
       "      <th>rating</th>\n",
       "      <th>coordinates</th>\n",
       "      <th>transactions</th>\n",
       "      <th>price</th>\n",
       "      <th>location</th>\n",
       "      <th>phone</th>\n",
       "      <th>display_phone</th>\n",
       "      <th>distance</th>\n",
       "    </tr>\n",
       "  </thead>\n",
       "  <tbody>\n",
       "    <tr>\n",
       "      <th>0</th>\n",
       "      <td>IX34m-olKrlEeeEIXEPh9g</td>\n",
       "      <td>francos-ristorante-chicago</td>\n",
       "      <td>Franco's Ristorante</td>\n",
       "      <td>https://s3-media3.fl.yelpcdn.com/bphoto/s1igyi...</td>\n",
       "      <td>False</td>\n",
       "      <td>https://www.yelp.com/biz/francos-ristorante-ch...</td>\n",
       "      <td>305</td>\n",
       "      <td>[{'alias': 'italian', 'title': 'Italian'}]</td>\n",
       "      <td>4.5</td>\n",
       "      <td>{'latitude': 41.83843, 'longitude': -87.6343}</td>\n",
       "      <td>[delivery, pickup]</td>\n",
       "      <td>$$</td>\n",
       "      <td>{'address1': '300 W 31st St', 'address2': '', ...</td>\n",
       "      <td>+13122259566</td>\n",
       "      <td>(312) 225-9566</td>\n",
       "      <td>8064.668317</td>\n",
       "    </tr>\n",
       "    <tr>\n",
       "      <th>1</th>\n",
       "      <td>7vsOVA4wrHP6f3DMQdD8og</td>\n",
       "      <td>volare-ristorante-italiano-chicago</td>\n",
       "      <td>Volare Ristorante Italiano</td>\n",
       "      <td>https://s3-media2.fl.yelpcdn.com/bphoto/wxlYbK...</td>\n",
       "      <td>False</td>\n",
       "      <td>https://www.yelp.com/biz/volare-ristorante-ita...</td>\n",
       "      <td>2626</td>\n",
       "      <td>[{'alias': 'italian', 'title': 'Italian'}]</td>\n",
       "      <td>4.0</td>\n",
       "      <td>{'latitude': 41.8915901798304, 'longitude': -8...</td>\n",
       "      <td>[delivery, restaurant_reservation, pickup]</td>\n",
       "      <td>$$</td>\n",
       "      <td>{'address1': '201 E Grand Ave', 'address2': ''...</td>\n",
       "      <td>+13124109900</td>\n",
       "      <td>(312) 410-9900</td>\n",
       "      <td>11184.586803</td>\n",
       "    </tr>\n",
       "    <tr>\n",
       "      <th>2</th>\n",
       "      <td>imArj2D-DaXLHAeQlnrzJg</td>\n",
       "      <td>ciao-ragazzi-restaurant-and-bar-chicago</td>\n",
       "      <td>Ciao Ragazzi Restaurant &amp; Bar</td>\n",
       "      <td>https://s3-media3.fl.yelpcdn.com/bphoto/zmABRG...</td>\n",
       "      <td>False</td>\n",
       "      <td>https://www.yelp.com/biz/ciao-ragazzi-restaura...</td>\n",
       "      <td>49</td>\n",
       "      <td>[{'alias': 'italian', 'title': 'Italian'}]</td>\n",
       "      <td>4.5</td>\n",
       "      <td>{'latitude': 41.79295188433059, 'longitude': -...</td>\n",
       "      <td>[]</td>\n",
       "      <td>NaN</td>\n",
       "      <td>{'address1': '5440 S Narragansett Ave', 'addre...</td>\n",
       "      <td>+17733060093</td>\n",
       "      <td>(773) 306-0093</td>\n",
       "      <td>6051.110816</td>\n",
       "    </tr>\n",
       "    <tr>\n",
       "      <th>3</th>\n",
       "      <td>MAj5LwDtHpViU2GcEWR8mQ</td>\n",
       "      <td>nonna-silvias-trattoria-and-pizzeria-park-ridge-3</td>\n",
       "      <td>Nonna Silvia's Trattoria &amp; Pizzeria</td>\n",
       "      <td>https://s3-media1.fl.yelpcdn.com/bphoto/XEyaW9...</td>\n",
       "      <td>False</td>\n",
       "      <td>https://www.yelp.com/biz/nonna-silvias-trattor...</td>\n",
       "      <td>542</td>\n",
       "      <td>[{'alias': 'italian', 'title': 'Italian'}]</td>\n",
       "      <td>4.5</td>\n",
       "      <td>{'latitude': 41.993232, 'longitude': -87.822427}</td>\n",
       "      <td>[delivery, pickup]</td>\n",
       "      <td>$$</td>\n",
       "      <td>{'address1': '1400 Canfield Rd', 'address2': '...</td>\n",
       "      <td>+18472929970</td>\n",
       "      <td>(847) 292-9970</td>\n",
       "      <td>19449.347223</td>\n",
       "    </tr>\n",
       "    <tr>\n",
       "      <th>4</th>\n",
       "      <td>3NViikBJwbjvq1ensGYRcw</td>\n",
       "      <td>pasta-d-arte-trattoria-italiana-chicago-2</td>\n",
       "      <td>Pasta D'Arte Trattoria Italiana</td>\n",
       "      <td>https://s3-media3.fl.yelpcdn.com/bphoto/yd8Fq6...</td>\n",
       "      <td>False</td>\n",
       "      <td>https://www.yelp.com/biz/pasta-d-arte-trattori...</td>\n",
       "      <td>569</td>\n",
       "      <td>[{'alias': 'italian', 'title': 'Italian'}]</td>\n",
       "      <td>4.5</td>\n",
       "      <td>{'latitude': 41.99563, 'longitude': -87.78578}</td>\n",
       "      <td>[delivery, pickup]</td>\n",
       "      <td>$$</td>\n",
       "      <td>{'address1': '6311 N Milwaukee Ave', 'address2...</td>\n",
       "      <td>+17737631181</td>\n",
       "      <td>(773) 763-1181</td>\n",
       "      <td>18747.355632</td>\n",
       "    </tr>\n",
       "  </tbody>\n",
       "</table>\n",
       "</div>"
      ],
      "text/plain": [
       "                       id                                              alias  \\\n",
       "0  IX34m-olKrlEeeEIXEPh9g                         francos-ristorante-chicago   \n",
       "1  7vsOVA4wrHP6f3DMQdD8og                 volare-ristorante-italiano-chicago   \n",
       "2  imArj2D-DaXLHAeQlnrzJg            ciao-ragazzi-restaurant-and-bar-chicago   \n",
       "3  MAj5LwDtHpViU2GcEWR8mQ  nonna-silvias-trattoria-and-pizzeria-park-ridge-3   \n",
       "4  3NViikBJwbjvq1ensGYRcw          pasta-d-arte-trattoria-italiana-chicago-2   \n",
       "\n",
       "                                  name  \\\n",
       "0                  Franco's Ristorante   \n",
       "1           Volare Ristorante Italiano   \n",
       "2        Ciao Ragazzi Restaurant & Bar   \n",
       "3  Nonna Silvia's Trattoria & Pizzeria   \n",
       "4      Pasta D'Arte Trattoria Italiana   \n",
       "\n",
       "                                           image_url  is_closed  \\\n",
       "0  https://s3-media3.fl.yelpcdn.com/bphoto/s1igyi...      False   \n",
       "1  https://s3-media2.fl.yelpcdn.com/bphoto/wxlYbK...      False   \n",
       "2  https://s3-media3.fl.yelpcdn.com/bphoto/zmABRG...      False   \n",
       "3  https://s3-media1.fl.yelpcdn.com/bphoto/XEyaW9...      False   \n",
       "4  https://s3-media3.fl.yelpcdn.com/bphoto/yd8Fq6...      False   \n",
       "\n",
       "                                                 url  review_count  \\\n",
       "0  https://www.yelp.com/biz/francos-ristorante-ch...           305   \n",
       "1  https://www.yelp.com/biz/volare-ristorante-ita...          2626   \n",
       "2  https://www.yelp.com/biz/ciao-ragazzi-restaura...            49   \n",
       "3  https://www.yelp.com/biz/nonna-silvias-trattor...           542   \n",
       "4  https://www.yelp.com/biz/pasta-d-arte-trattori...           569   \n",
       "\n",
       "                                   categories  rating  \\\n",
       "0  [{'alias': 'italian', 'title': 'Italian'}]     4.5   \n",
       "1  [{'alias': 'italian', 'title': 'Italian'}]     4.0   \n",
       "2  [{'alias': 'italian', 'title': 'Italian'}]     4.5   \n",
       "3  [{'alias': 'italian', 'title': 'Italian'}]     4.5   \n",
       "4  [{'alias': 'italian', 'title': 'Italian'}]     4.5   \n",
       "\n",
       "                                         coordinates  \\\n",
       "0      {'latitude': 41.83843, 'longitude': -87.6343}   \n",
       "1  {'latitude': 41.8915901798304, 'longitude': -8...   \n",
       "2  {'latitude': 41.79295188433059, 'longitude': -...   \n",
       "3   {'latitude': 41.993232, 'longitude': -87.822427}   \n",
       "4     {'latitude': 41.99563, 'longitude': -87.78578}   \n",
       "\n",
       "                                 transactions price  \\\n",
       "0                          [delivery, pickup]    $$   \n",
       "1  [delivery, restaurant_reservation, pickup]    $$   \n",
       "2                                          []   NaN   \n",
       "3                          [delivery, pickup]    $$   \n",
       "4                          [delivery, pickup]    $$   \n",
       "\n",
       "                                            location         phone  \\\n",
       "0  {'address1': '300 W 31st St', 'address2': '', ...  +13122259566   \n",
       "1  {'address1': '201 E Grand Ave', 'address2': ''...  +13124109900   \n",
       "2  {'address1': '5440 S Narragansett Ave', 'addre...  +17733060093   \n",
       "3  {'address1': '1400 Canfield Rd', 'address2': '...  +18472929970   \n",
       "4  {'address1': '6311 N Milwaukee Ave', 'address2...  +17737631181   \n",
       "\n",
       "    display_phone      distance  \n",
       "0  (312) 225-9566   8064.668317  \n",
       "1  (312) 410-9900  11184.586803  \n",
       "2  (773) 306-0093   6051.110816  \n",
       "3  (847) 292-9970  19449.347223  \n",
       "4  (773) 763-1181  18747.355632  "
      ]
     },
     "execution_count": 26,
     "metadata": {},
     "output_type": "execute_result"
    }
   ],
   "source": [
    "df = pd.read_json(JSON_FILE)\n",
    "print(df.info())\n",
    "df.head()"
   ]
  },
  {
   "cell_type": "code",
   "execution_count": 27,
   "id": "1d6f6446",
   "metadata": {},
   "outputs": [
    {
     "data": {
      "text/plain": [
       "'Data/results_in_progress_Chicago_Italian.csv.gz'"
      ]
     },
     "execution_count": 27,
     "metadata": {},
     "output_type": "execute_result"
    }
   ],
   "source": [
    "## convert the filename to a .csv.gz\n",
    "csv_file = JSON_FILE.replace('.json','.csv.gz')\n",
    "csv_file"
   ]
  },
  {
   "cell_type": "code",
   "execution_count": 7,
   "id": "9f38f8db",
   "metadata": {},
   "outputs": [
    {
     "data": {
      "text/plain": [
       "20"
      ]
     },
     "execution_count": 7,
     "metadata": {},
     "output_type": "execute_result"
    }
   ],
   "source": []
  },
  {
   "cell_type": "code",
   "execution_count": 8,
   "id": "3211f5fb",
   "metadata": {},
   "outputs": [],
   "source": []
  },
  {
   "cell_type": "code",
   "execution_count": 9,
   "id": "f78c3f38",
   "metadata": {},
   "outputs": [
    {
     "data": {
      "text/html": [
       "<div>\n",
       "<style scoped>\n",
       "    .dataframe tbody tr th:only-of-type {\n",
       "        vertical-align: middle;\n",
       "    }\n",
       "\n",
       "    .dataframe tbody tr th {\n",
       "        vertical-align: top;\n",
       "    }\n",
       "\n",
       "    .dataframe thead th {\n",
       "        text-align: right;\n",
       "    }\n",
       "</style>\n",
       "<table border=\"1\" class=\"dataframe\">\n",
       "  <thead>\n",
       "    <tr style=\"text-align: right;\">\n",
       "      <th></th>\n",
       "      <th>id</th>\n",
       "      <th>alias</th>\n",
       "      <th>name</th>\n",
       "      <th>image_url</th>\n",
       "      <th>is_closed</th>\n",
       "      <th>url</th>\n",
       "      <th>review_count</th>\n",
       "      <th>categories</th>\n",
       "      <th>rating</th>\n",
       "      <th>coordinates</th>\n",
       "      <th>transactions</th>\n",
       "      <th>location</th>\n",
       "      <th>phone</th>\n",
       "      <th>display_phone</th>\n",
       "      <th>distance</th>\n",
       "      <th>price</th>\n",
       "    </tr>\n",
       "  </thead>\n",
       "  <tbody>\n",
       "    <tr>\n",
       "      <th>0</th>\n",
       "      <td>Ev-IGzPMmsKCchKh53Gqig</td>\n",
       "      <td>panda-express-moline-3</td>\n",
       "      <td>Panda Express</td>\n",
       "      <td>https://s3-media3.fl.yelpcdn.com/bphoto/PtZqMF...</td>\n",
       "      <td>False</td>\n",
       "      <td>https://www.yelp.com/biz/panda-express-moline-...</td>\n",
       "      <td>26</td>\n",
       "      <td>[{'alias': 'chinese', 'title': 'Chinese'}, {'a...</td>\n",
       "      <td>2.5</td>\n",
       "      <td>{'latitude': 41.4714630502789, 'longitude': -9...</td>\n",
       "      <td>[pickup, delivery]</td>\n",
       "      <td>{'address1': '3714 39th Avenue Dr', 'address2'...</td>\n",
       "      <td>+13097577627</td>\n",
       "      <td>(309) 757-7627</td>\n",
       "      <td>11581.204573</td>\n",
       "      <td>NaN</td>\n",
       "    </tr>\n",
       "    <tr>\n",
       "      <th>1</th>\n",
       "      <td>bepjc2Rb4QzYDxR8WszKXg</td>\n",
       "      <td>china-inn-moline-2</td>\n",
       "      <td>China Inn</td>\n",
       "      <td>https://s3-media2.fl.yelpcdn.com/bphoto/Zz0hAk...</td>\n",
       "      <td>False</td>\n",
       "      <td>https://www.yelp.com/biz/china-inn-moline-2?ad...</td>\n",
       "      <td>19</td>\n",
       "      <td>[{'alias': 'chinese', 'title': 'Chinese'}]</td>\n",
       "      <td>3.5</td>\n",
       "      <td>{'latitude': 41.4908459, 'longitude': -90.4837...</td>\n",
       "      <td>[pickup, delivery]</td>\n",
       "      <td>{'address1': '3614 Ave Of The Cities', 'addres...</td>\n",
       "      <td>+13092772888</td>\n",
       "      <td>(309) 277-2888</td>\n",
       "      <td>10414.187251</td>\n",
       "      <td>$</td>\n",
       "    </tr>\n",
       "    <tr>\n",
       "      <th>2</th>\n",
       "      <td>MjdoeSEHHnd3rNYimzCB4w</td>\n",
       "      <td>great-wall-rock-island</td>\n",
       "      <td>Great Wall</td>\n",
       "      <td>https://s3-media2.fl.yelpcdn.com/bphoto/vR4bI2...</td>\n",
       "      <td>False</td>\n",
       "      <td>https://www.yelp.com/biz/great-wall-rock-islan...</td>\n",
       "      <td>21</td>\n",
       "      <td>[{'alias': 'chinese', 'title': 'Chinese'}]</td>\n",
       "      <td>3.5</td>\n",
       "      <td>{'latitude': 41.4936116796799, 'longitude': -9...</td>\n",
       "      <td>[pickup, delivery]</td>\n",
       "      <td>{'address1': '1622 38th St', 'address2': 'Unit...</td>\n",
       "      <td>+13097888288</td>\n",
       "      <td>(309) 788-8288</td>\n",
       "      <td>6322.646789</td>\n",
       "      <td>NaN</td>\n",
       "    </tr>\n",
       "    <tr>\n",
       "      <th>3</th>\n",
       "      <td>pE7i9pu_DRLcbDqkAVwjow</td>\n",
       "      <td>exotic-thai-restaurant-davenport</td>\n",
       "      <td>Exotic Thai Restaurant</td>\n",
       "      <td>https://s3-media3.fl.yelpcdn.com/bphoto/akt2rO...</td>\n",
       "      <td>False</td>\n",
       "      <td>https://www.yelp.com/biz/exotic-thai-restauran...</td>\n",
       "      <td>170</td>\n",
       "      <td>[{'alias': 'thai', 'title': 'Thai'}]</td>\n",
       "      <td>4.0</td>\n",
       "      <td>{'latitude': 41.5743269, 'longitude': -90.542813}</td>\n",
       "      <td>[pickup, delivery]</td>\n",
       "      <td>{'address1': '2303 E 53rd St', 'address2': '',...</td>\n",
       "      <td>+15633440909</td>\n",
       "      <td>(563) 344-0909</td>\n",
       "      <td>5324.594683</td>\n",
       "      <td>$$</td>\n",
       "    </tr>\n",
       "    <tr>\n",
       "      <th>4</th>\n",
       "      <td>21U0wfPLLPt5UUD1dYhoug</td>\n",
       "      <td>china-one-clinton</td>\n",
       "      <td>China One</td>\n",
       "      <td></td>\n",
       "      <td>False</td>\n",
       "      <td>https://www.yelp.com/biz/china-one-clinton?adj...</td>\n",
       "      <td>5</td>\n",
       "      <td>[{'alias': 'chinese', 'title': 'Chinese'}]</td>\n",
       "      <td>4.5</td>\n",
       "      <td>{'latitude': 41.8302652984858, 'longitude': -9...</td>\n",
       "      <td>[]</td>\n",
       "      <td>{'address1': '1845 Manufacturing Dr', 'address...</td>\n",
       "      <td>+15632429255</td>\n",
       "      <td>(563) 242-9255</td>\n",
       "      <td>43811.906063</td>\n",
       "      <td>$$</td>\n",
       "    </tr>\n",
       "  </tbody>\n",
       "</table>\n",
       "</div>"
      ],
      "text/plain": [
       "                       id                             alias  \\\n",
       "0  Ev-IGzPMmsKCchKh53Gqig            panda-express-moline-3   \n",
       "1  bepjc2Rb4QzYDxR8WszKXg                china-inn-moline-2   \n",
       "2  MjdoeSEHHnd3rNYimzCB4w            great-wall-rock-island   \n",
       "3  pE7i9pu_DRLcbDqkAVwjow  exotic-thai-restaurant-davenport   \n",
       "4  21U0wfPLLPt5UUD1dYhoug                 china-one-clinton   \n",
       "\n",
       "                     name                                          image_url  \\\n",
       "0           Panda Express  https://s3-media3.fl.yelpcdn.com/bphoto/PtZqMF...   \n",
       "1               China Inn  https://s3-media2.fl.yelpcdn.com/bphoto/Zz0hAk...   \n",
       "2              Great Wall  https://s3-media2.fl.yelpcdn.com/bphoto/vR4bI2...   \n",
       "3  Exotic Thai Restaurant  https://s3-media3.fl.yelpcdn.com/bphoto/akt2rO...   \n",
       "4               China One                                                      \n",
       "\n",
       "   is_closed                                                url  review_count  \\\n",
       "0      False  https://www.yelp.com/biz/panda-express-moline-...            26   \n",
       "1      False  https://www.yelp.com/biz/china-inn-moline-2?ad...            19   \n",
       "2      False  https://www.yelp.com/biz/great-wall-rock-islan...            21   \n",
       "3      False  https://www.yelp.com/biz/exotic-thai-restauran...           170   \n",
       "4      False  https://www.yelp.com/biz/china-one-clinton?adj...             5   \n",
       "\n",
       "                                          categories  rating  \\\n",
       "0  [{'alias': 'chinese', 'title': 'Chinese'}, {'a...     2.5   \n",
       "1         [{'alias': 'chinese', 'title': 'Chinese'}]     3.5   \n",
       "2         [{'alias': 'chinese', 'title': 'Chinese'}]     3.5   \n",
       "3               [{'alias': 'thai', 'title': 'Thai'}]     4.0   \n",
       "4         [{'alias': 'chinese', 'title': 'Chinese'}]     4.5   \n",
       "\n",
       "                                         coordinates        transactions  \\\n",
       "0  {'latitude': 41.4714630502789, 'longitude': -9...  [pickup, delivery]   \n",
       "1  {'latitude': 41.4908459, 'longitude': -90.4837...  [pickup, delivery]   \n",
       "2  {'latitude': 41.4936116796799, 'longitude': -9...  [pickup, delivery]   \n",
       "3  {'latitude': 41.5743269, 'longitude': -90.542813}  [pickup, delivery]   \n",
       "4  {'latitude': 41.8302652984858, 'longitude': -9...                  []   \n",
       "\n",
       "                                            location         phone  \\\n",
       "0  {'address1': '3714 39th Avenue Dr', 'address2'...  +13097577627   \n",
       "1  {'address1': '3614 Ave Of The Cities', 'addres...  +13092772888   \n",
       "2  {'address1': '1622 38th St', 'address2': 'Unit...  +13097888288   \n",
       "3  {'address1': '2303 E 53rd St', 'address2': '',...  +15633440909   \n",
       "4  {'address1': '1845 Manufacturing Dr', 'address...  +15632429255   \n",
       "\n",
       "    display_phone      distance price  \n",
       "0  (309) 757-7627  11581.204573   NaN  \n",
       "1  (309) 277-2888  10414.187251     $  \n",
       "2  (309) 788-8288   6322.646789   NaN  \n",
       "3  (563) 344-0909   5324.594683    $$  \n",
       "4  (563) 242-9255  43811.906063    $$  "
      ]
     },
     "execution_count": 9,
     "metadata": {},
     "output_type": "execute_result"
    }
   ],
   "source": []
  }
 ],
 "metadata": {
  "kernelspec": {
   "display_name": "Python (dojo-env)",
   "language": "python",
   "name": "dojo-env"
  },
  "language_info": {
   "codemirror_mode": {
    "name": "ipython",
    "version": 3
   },
   "file_extension": ".py",
   "mimetype": "text/x-python",
   "name": "python",
   "nbconvert_exporter": "python",
   "pygments_lexer": "ipython3",
   "version": "3.9.15"
  },
  "toc": {
   "base_numbering": 1,
   "nav_menu": {},
   "number_sections": false,
   "sideBar": true,
   "skip_h1_title": false,
   "title_cell": "Table of Contents",
   "title_sidebar": "Contents",
   "toc_cell": false,
   "toc_position": {},
   "toc_section_display": true,
   "toc_window_display": false
  }
 },
 "nbformat": 4,
 "nbformat_minor": 5
}
